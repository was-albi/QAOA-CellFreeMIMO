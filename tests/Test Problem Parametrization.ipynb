{
 "cells": [
  {
   "cell_type": "code",
   "execution_count": 1,
   "id": "564ce73d",
   "metadata": {},
   "outputs": [],
   "source": [
    "import numpy as np"
   ]
  },
  {
   "cell_type": "markdown",
   "id": "bbd5793b",
   "metadata": {},
   "source": [
    "Define problem variables."
   ]
  },
  {
   "cell_type": "code",
   "execution_count": 2,
   "id": "c88db2a3",
   "metadata": {},
   "outputs": [],
   "source": [
    "M = 3 # number of cells\n",
    "K = 3 # number of users\n",
    "rho = 1 # max power\n",
    "BW_max = 6 # max BW, M_hat in paper\n",
    "eta = np.random.rand(K) # power control fraction for each user\n",
    "alpha = np.random.rand(M,K)\n",
    "beta = np.random.rand(M,K)"
   ]
  },
  {
   "cell_type": "code",
   "execution_count": 3,
   "id": "0eeff8d5",
   "metadata": {},
   "outputs": [],
   "source": [
    "#tg = 10.0 ** np.array([-3.2, -3, -2.8, -2.6, -2.4, -2.2, -2., -1.8, -1.6, -1.4, -1.2, -1, -0.8, -0.6, -0.4, -0.2, 0, 1, 2, 3])\n",
    "tg = 10.0 ** np.array([ -3, -2.5, -2., -1.5, -1, -0.5, 0])\n",
    "Nt = len(tg)\n",
    "x_t = np.zeros(Nt)\n",
    "\n",
    "X_mat = np.zeros((M,K))\n",
    "x_vec = X_mat.flatten('F')\n",
    "x = np.concatenate((x_vec,x_t))"
   ]
  },
  {
   "cell_type": "code",
   "execution_count": 4,
   "id": "68e77fd3",
   "metadata": {},
   "outputs": [],
   "source": [
    "Pt = np.concatenate((np.zeros((Nt,M*K)),np.eye(Nt)), axis = 1)\n",
    "Pk_list = []\n",
    "for k in range(K):\n",
    "    Pk = np.concatenate((np.zeros((M,M*k)), np.eye(M), np.zeros((M,M*(K-k-1)+Nt))), axis = 1 )\n",
    "    Pk_list.append(Pk)\n",
    "Pm_list = []\n",
    "for m in range(M):\n",
    "    Pm = np.zeros((K,M*K+Nt))\n",
    "    for k in range(K):\n",
    "        Pm[k,m+M*k] = 1\n",
    "    Pk_list.append(Pm)\n",
    "    \n",
    "one_vec = np.ones(M*K+Nt)\n",
    "one_vec_tilde = np.concatenate((np.ones(M*K),np.zeros(Nt)))"
   ]
  },
  {
   "cell_type": "markdown",
   "id": "b958c371",
   "metadata": {},
   "source": [
    "TO DOs:\n",
    "- 1) create a function that evaluate SINRs for a given configuration of X and a given eta\n",
    "- 2) brute force (48) \n",
    "- 3) brute force the full problem, i.e. find SINRs for each configuration, find min SINR, search for max min SINR"
   ]
  },
  {
   "cell_type": "code",
   "execution_count": 5,
   "id": "9c467fbb",
   "metadata": {},
   "outputs": [],
   "source": [
    "def SINR( X, eta, alpha, beta, rho ):\n",
    "    \n",
    "    K = X.shape[1]\n",
    "    M = X.shape[0]\n",
    "    \n",
    "    snr = np.zeros(K)\n",
    "    \n",
    "    for k in range(K):\n",
    "        num = rho * eta[k]*( np.sum(np.multiply(X[:,k],alpha[:,k]))**2 )\n",
    "        den = 0\n",
    "        for k1 in list(range(k))+list(range(k+1,K)):\n",
    "            den += rho*( eta[k1]* ( np.sum( np.multiply(np.multiply(X[:,k],alpha[:,k]), beta[:,k1] ) ) ) )\n",
    "        den += np.sum(np.multiply(X[:,k],alpha[:,k]))\n",
    "        snr[k] = num/den\n",
    "        if snr[k] != snr[k] : snr[k] = 0    \n",
    "    \n",
    "    return snr"
   ]
  },
  {
   "cell_type": "markdown",
   "id": "d960ef16",
   "metadata": {},
   "source": [
    "Bruteforce the original problem. Gnerate all valid matrices of link combination and compute SINR for each of them."
   ]
  },
  {
   "cell_type": "code",
   "execution_count": 6,
   "id": "479657b6",
   "metadata": {
    "scrolled": true
   },
   "outputs": [
    {
     "name": "stdout",
     "output_type": "stream",
     "text": [
      "512\n",
      "466\n"
     ]
    }
   ],
   "source": [
    "n_combin = 2**(M*K)\n",
    "\n",
    "X_list_try = []\n",
    "\n",
    "for i in range(n_combin):\n",
    "    x_vec = np.zeros(M*K)\n",
    "    bs = format(i, \"0\"+str(M*K)+\"b\")\n",
    "    for j in range(M*K): \n",
    "        x_vec[j] = bs[j]\n",
    "    X_list_try.append(x_vec.reshape(M,K))\n",
    "    \n",
    "X_list = []\n",
    "for Xmat in X_list_try:\n",
    "    if np.sum(Xmat.flatten()) <= BW_max:\n",
    "        X_list.append(Xmat)\n",
    "\n",
    "print(len(X_list_try))\n",
    "print(len(X_list))"
   ]
  },
  {
   "cell_type": "code",
   "execution_count": 7,
   "id": "b2d92da0",
   "metadata": {},
   "outputs": [
    {
     "name": "stdout",
     "output_type": "stream",
     "text": [
      "[0.07752993 0.32541509 0.90041286]\n"
     ]
    }
   ],
   "source": [
    "# try a string\n",
    "\n",
    "x_vec = np.zeros(M*K)\n",
    "x_mat = np.array([[1,0,1],[0,1,1],[0,0,1]]) # set it to a matrix\n",
    "print(SINR(x_mat, eta, alpha, beta, rho))"
   ]
  },
  {
   "cell_type": "code",
   "execution_count": 8,
   "id": "25ff307e",
   "metadata": {
    "scrolled": true
   },
   "outputs": [
    {
     "name": "stdout",
     "output_type": "stream",
     "text": [
      "Actual full search best\n",
      "\n",
      "63\n",
      "0.5111566989681892\n",
      "[[0. 0. 0.]\n",
      " [1. 1. 1.]\n",
      " [1. 1. 1.]]\n"
     ]
    },
    {
     "name": "stderr",
     "output_type": "stream",
     "text": [
      "/home/alb/Scrivania/Quantum/Projects/Applications/QAOA-CellFreeMIMO/virtual_QAOA-CellFreeMIMO/lib/python3.7/site-packages/ipykernel_launcher.py:14: RuntimeWarning: invalid value encountered in double_scalars\n",
      "  \n"
     ]
    }
   ],
   "source": [
    "min_snr = np.zeros(len(X_list))\n",
    "for i in range(len(X_list)):\n",
    "    Xmat = X_list[i]\n",
    "    snr = SINR(Xmat, eta, alpha, beta, rho)\n",
    "    min_snr[i] = np.amin(snr)\n",
    "\n",
    "best_id = np.argmax(min_snr)\n",
    "best_X = X_list[best_id]\n",
    "\n",
    "print('Actual full search best\\n')\n",
    "print(best_id)\n",
    "print(min_snr[best_id])\n",
    "print(best_X)\n"
   ]
  },
  {
   "cell_type": "markdown",
   "id": "b491491e",
   "metadata": {},
   "source": [
    "Now lets' bruteforce (48) and check the two solutions coincide."
   ]
  },
  {
   "cell_type": "code",
   "execution_count": 9,
   "id": "e37bc3bc",
   "metadata": {},
   "outputs": [
    {
     "name": "stdout",
     "output_type": "stream",
     "text": [
      "(7, 16)\n",
      "(7,)\n"
     ]
    }
   ],
   "source": [
    "print(Pt.shape)\n",
    "print(tg.shape)"
   ]
  },
  {
   "cell_type": "code",
   "execution_count": 10,
   "id": "46407519",
   "metadata": {},
   "outputs": [],
   "source": [
    "# build A and B\n",
    "\n",
    "A_list = []\n",
    "B_list = []\n",
    "\n",
    "b_tilde_list = []\n",
    "A_tilde_list = []\n",
    "\n",
    "for k in range(K):\n",
    "    A_tilde = np.zeros((M,M))\n",
    "    b_tilde = np.zeros(M)\n",
    "\n",
    "    for m in range(M):\n",
    "        for n in range(M):\n",
    "            A_tilde[m,n] = rho*eta[k]*alpha[m,k]*alpha[n,k]\n",
    "        b_tilde[m] = alpha[m,k]*(rho*(np.sum(np.multiply(eta,beta[m,:])) - beta[m,k]*eta[k]) + 1)\n",
    "    \n",
    "    A_tilde_list.append(A_tilde)\n",
    "    b_tilde_list.append(b_tilde)\n",
    "    \n",
    "    A_list.append( Pk_list[k].T@A_tilde@Pk_list[k] )\n",
    "    B_list.append( np.outer((Pt.T @ tg),(b_tilde.T @ Pk_list[k])) )\n",
    "    \n",
    "    "
   ]
  },
  {
   "cell_type": "code",
   "execution_count": 11,
   "id": "373cdd9d",
   "metadata": {},
   "outputs": [
    {
     "name": "stdout",
     "output_type": "stream",
     "text": [
      "65536\n"
     ]
    }
   ],
   "source": [
    "n_combin = 2**(M*K+Nt)\n",
    "\n",
    "print(n_combin)"
   ]
  },
  {
   "cell_type": "code",
   "execution_count": 12,
   "id": "3f6a38e9",
   "metadata": {},
   "outputs": [
    {
     "name": "stdout",
     "output_type": "stream",
     "text": [
      "65536\n",
      "9850\n"
     ]
    }
   ],
   "source": [
    "x_list_try = []\n",
    "\n",
    "for i in range(n_combin):\n",
    "    x = np.zeros(M*K + Nt)\n",
    "    bs = format(i, \"0\"+str(M*K+Nt)+\"b\")\n",
    "    for j in range(M*K+Nt): \n",
    "        x[j] = bs[j]\n",
    "    x_list_try.append(x)\n",
    "    \n",
    "x_list = []\n",
    "for x in x_list_try:\n",
    "    c1 = np.zeros(K)\n",
    "    c2 = np.sum(x[:M*K])\n",
    "    c3 = np.zeros(K)\n",
    "    oneM = np.ones(M)\n",
    "    for k in range(K):\n",
    "        c1[k] = x.T@ ( A_list[k] - B_list[k] ) @ x\n",
    "        c3[k] = oneM @  Pk_list[k] @ x\n",
    "        \n",
    "    if (c1>=0).all() and c2 <= BW_max and (c3>=1).all():\n",
    "        x_list.append(x)\n",
    "\n",
    "print(len(x_list_try))\n",
    "print(len(x_list))"
   ]
  },
  {
   "cell_type": "code",
   "execution_count": 13,
   "id": "a2b826dc",
   "metadata": {},
   "outputs": [
    {
     "name": "stdout",
     "output_type": "stream",
     "text": [
      "New parametrization full search best\n",
      "\n",
      "3705\n",
      "0.46201282027869006\n",
      "[0. 1. 1. 0. 1. 1. 0. 1. 1. 1. 1. 1. 1. 1. 1. 0.]\n"
     ]
    }
   ],
   "source": [
    "obj_vec = np.zeros(len(x_list))\n",
    "for i in range(len(x_list)):\n",
    "    x = x_list[i]\n",
    "    obj_vec[i] = tg.T @ Pt @ x # NOTE: this is just a lower bound for SNR!!\n",
    "    \n",
    "best_id = np.argmax(obj_vec)\n",
    "best_x = x_list[best_id]\n",
    "\n",
    "\n",
    "print('New parametrization full search best\\n')\n",
    "print(best_id)\n",
    "print(obj_vec[best_id])\n",
    "print(best_x)"
   ]
  },
  {
   "cell_type": "code",
   "execution_count": 21,
   "id": "2125a0ff",
   "metadata": {},
   "outputs": [
    {
     "name": "stdout",
     "output_type": "stream",
     "text": [
      "[[0. 0. 0.]\n",
      " [1. 1. 1.]\n",
      " [1. 1. 1.]]\n",
      "Actual SINR:\n",
      "\n",
      "[0.5111567  0.64527657 0.6011947 ]\n"
     ]
    }
   ],
   "source": [
    "# actual SNR \n",
    "bestx_mat = best_x[:M*K].reshape(M,K).T\n",
    "print(bestx_mat)\n",
    "print('Actual SINR:\\n')\n",
    "print(SINR(bestx_mat, eta, alpha, beta, rho))"
   ]
  },
  {
   "cell_type": "code",
   "execution_count": 15,
   "id": "09c45919",
   "metadata": {},
   "outputs": [
    {
     "name": "stdout",
     "output_type": "stream",
     "text": [
      "0.17999832379653616\n",
      "0.17999832379653616\n",
      "0.3133954604539209\n",
      "0.15929596153899145\n",
      "0.15929596153899145\n",
      "0.3555735562911831\n",
      "0.1627082556779938\n",
      "0.1627082556779938\n",
      "0.4678180325832295\n"
     ]
    }
   ],
   "source": [
    "for k in range(K):\n",
    "    x = x_list[255]\n",
    "    b1 = x.T @ B_list[k] @ x\n",
    "    print(b1)\n",
    "    b2 = (tg.T @ Pt @ x ).T \n",
    "    b2 = b2 *( b_tilde_list[k].T @ Pk_list[k] @ x )\n",
    "    print(b2)\n",
    "\n",
    "    a1 = x.T @ A_list[k] @ x\n",
    "    print(a1)"
   ]
  },
  {
   "cell_type": "code",
   "execution_count": 16,
   "id": "56520534",
   "metadata": {
    "scrolled": true
   },
   "outputs": [
    {
     "name": "stdout",
     "output_type": "stream",
     "text": [
      "[0. 0. 1.]\n",
      "[0. 1. 0.]\n",
      "[0. 0. 1.]\n"
     ]
    },
    {
     "data": {
      "text/plain": [
       "[None, None, None]"
      ]
     },
     "execution_count": 16,
     "metadata": {},
     "output_type": "execute_result"
    }
   ],
   "source": [
    "[print(Pk_list[k] @ x) for k in range(K)]"
   ]
  },
  {
   "cell_type": "code",
   "execution_count": 19,
   "id": "09b2eeb1",
   "metadata": {},
   "outputs": [
    {
     "name": "stdout",
     "output_type": "stream",
     "text": [
      "[2. 2. 2.]\n"
     ]
    }
   ],
   "source": [
    "x = best_x\n",
    "c1 = np.zeros(K)\n",
    "c2 = np.sum(x[:M*K])\n",
    "c3 = np.zeros(K)\n",
    "oneM = np.ones(M)\n",
    "for k in range(K):\n",
    "    c1[k] = x.T@ ( A_list[k] - B_list[k] ) @ x\n",
    "    c3[k] = oneM @  Pk_list[k] @ x\n",
    "    \n",
    "print(c3)"
   ]
  },
  {
   "cell_type": "code",
   "execution_count": 20,
   "id": "140066ca",
   "metadata": {},
   "outputs": [
    {
     "data": {
      "text/plain": [
       "array([[0., 0., 0., 1., 0., 0., 0., 0., 0., 0., 0., 0., 0., 0., 0., 0.],\n",
       "       [0., 0., 0., 0., 1., 0., 0., 0., 0., 0., 0., 0., 0., 0., 0., 0.],\n",
       "       [0., 0., 0., 0., 0., 1., 0., 0., 0., 0., 0., 0., 0., 0., 0., 0.]])"
      ]
     },
     "execution_count": 20,
     "metadata": {},
     "output_type": "execute_result"
    }
   ],
   "source": [
    "Pk_list[1]"
   ]
  }
 ],
 "metadata": {
  "kernelspec": {
   "display_name": "Python 3 (ipykernel)",
   "language": "python",
   "name": "python3"
  },
  "language_info": {
   "codemirror_mode": {
    "name": "ipython",
    "version": 3
   },
   "file_extension": ".py",
   "mimetype": "text/x-python",
   "name": "python",
   "nbconvert_exporter": "python",
   "pygments_lexer": "ipython3",
   "version": "3.7.4"
  }
 },
 "nbformat": 4,
 "nbformat_minor": 5
}
