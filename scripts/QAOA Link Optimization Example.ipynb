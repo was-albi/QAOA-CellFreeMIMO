{
 "cells": [
  {
   "cell_type": "code",
   "execution_count": 1,
   "id": "4e1127dd",
   "metadata": {},
   "outputs": [],
   "source": [
    "import numpy as np\n",
    "import scipy.special\n",
    "from scipy.optimize import minimize\n",
    "\n",
    "# Importing standard Qiskit libraries\n",
    "from qiskit import QuantumCircuit, ClassicalRegister, QuantumRegister, transpile, Aer, IBMQ, execute\n",
    "from qiskit.circuit import Parameter\n",
    "from qiskit.tools.jupyter import *\n",
    "from qiskit.visualization import *\n",
    "#from ibm_quantum_widgets import *\n",
    "from qiskit.providers.aer import QasmSimulator\n",
    "\n",
    "from src import QAOA_utilities as QAOAut\n",
    "from src import CellFreeQAOA as CFQAOA\n",
    "\n",
    "# Loading your IBM Quantum account(s)\n",
    "#provider = IBMQ.load_account()"
   ]
  },
  {
   "cell_type": "markdown",
   "id": "6ff5e92a",
   "metadata": {},
   "source": [
    "Initialize network parameters"
   ]
  },
  {
   "cell_type": "code",
   "execution_count": 2,
   "id": "4267a2ef",
   "metadata": {},
   "outputs": [],
   "source": [
    "M = 3 # number of cells\n",
    "K = 3 # number of users\n",
    "rho = 1 # max power\n",
    "BW_max = 6 # max BW, M_hat in paper\n",
    "rng = np.random.default_rng(2144)\n",
    "#eta = np.random.rand(K) # power control fraction for each user\n",
    "#alpha = np.random.rand(M,K)\n",
    "#beta = np.random.rand(M,K)\n",
    "eta = rng.random(K) # power control fraction for each user\n",
    "alpha = rng.random((M,K))\n",
    "beta = rng.random((M,K))"
   ]
  },
  {
   "cell_type": "markdown",
   "id": "3518b03e",
   "metadata": {},
   "source": [
    "Discretize $t$ and create $X$ and its vectorized form"
   ]
  },
  {
   "cell_type": "code",
   "execution_count": 3,
   "id": "6acbd2af",
   "metadata": {},
   "outputs": [],
   "source": [
    "#tg = 10.0 ** np.array([-3.2, -3, -2.8, -2.6, -2.4, -2.2, -2., -1.8, -1.6, -1.4, -1.2, -1, -0.8, -0.6, -0.4, -0.2, 0, 1, 2, 3])\n",
    "tg = 10.0 ** np.array([ -3, -2.5, -2.2, -1.8 , -1.5, -1, -0.5])\n",
    "Nt = len(tg)\n",
    "x_t = np.zeros(Nt)\n",
    "\n",
    "X_mat = np.zeros((M,K))\n",
    "x_vec = X_mat.flatten('F')\n",
    "x = np.concatenate((x_vec,x_t))"
   ]
  },
  {
   "cell_type": "markdown",
   "id": "ddef83b6",
   "metadata": {},
   "source": [
    "Build auxiliary amtrices $A^{(k)}$, $B^{(k)}$, and $C = \\sum_k A^{(k)} - B^{(k)}$"
   ]
  },
  {
   "cell_type": "code",
   "execution_count": 4,
   "id": "564a059b",
   "metadata": {},
   "outputs": [],
   "source": [
    "# Build auxiliary matrices\n",
    "Pt = np.concatenate((np.zeros((Nt,M*K)),np.eye(Nt)), axis = 1)\n",
    "Pk_list = []\n",
    "for k in range(K):\n",
    "    Pk = np.concatenate((np.zeros((M,M*k)), np.eye(M), np.zeros((M,M*(K-k-1)+Nt))), axis = 1 )\n",
    "    Pk_list.append(Pk)\n",
    "Pm_list = []\n",
    "for m in range(M):\n",
    "    Pm = np.zeros((K,M*K+Nt))\n",
    "    for k in range(K):\n",
    "        Pm[k,m+M*k] = 1\n",
    "    Pk_list.append(Pm)\n",
    "    \n",
    "one_vec = np.ones(M*K+Nt)\n",
    "one_vec_tilde = np.concatenate((np.ones(M*K),np.zeros(Nt)))\n",
    "\n",
    "# build A and B\n",
    "\n",
    "A_list = []\n",
    "B_list = []\n",
    "\n",
    "b_tilde_list = []\n",
    "A_tilde_list = []\n",
    "\n",
    "for k in range(K):\n",
    "    A_tilde = np.zeros((M,M))\n",
    "    b_tilde = np.zeros(M)\n",
    "\n",
    "    for m in range(M):\n",
    "        for n in range(M):\n",
    "            A_tilde[m,n] = rho*eta[k]*alpha[m,k]*alpha[n,k]\n",
    "        b_tilde[m] = alpha[m,k]*(rho*(np.sum(np.multiply(eta,beta[m,:])) - beta[m,k]*eta[k]) + 1)\n",
    "    \n",
    "    A_tilde_list.append(A_tilde)\n",
    "    b_tilde_list.append(b_tilde)\n",
    "    \n",
    "    A_list.append( Pk_list[k].T@A_tilde@Pk_list[k] )\n",
    "    B_list.append( np.outer((Pt.T @ tg),(b_tilde.T @ Pk_list[k])) )\n",
    "    \n",
    "C = np.sum( [ A_list[k] - B_list[k] for k in range(len(A_list)) ] , 0 )\n",
    "#EM = np.ones((M,M))\n",
    "#EMK = np.ones((M*K,M*K))\n",
    "#IK = np.eye(K)\n",
    "#D = np.kron(IK,EM)\n",
    "\n",
    "c_bar = np.sum(C,0)\n",
    "c_tilde = np.sum(C,1)\n",
    "#F = np.block( [[ C[0:(M*K),0:(M*K)]+D-EMK, np.zeros((M*K,Nt)) ], [ np.zeros((Nt,M*K)), np.eye(Nt) ]] )"
   ]
  },
  {
   "cell_type": "code",
   "execution_count": 5,
   "id": "e10baf0a",
   "metadata": {},
   "outputs": [],
   "source": [
    "# Hyperparams\n",
    "\n",
    "p_param = 2\n",
    "lambda_s = 60 "
   ]
  },
  {
   "cell_type": "code",
   "execution_count": 6,
   "id": "74883664",
   "metadata": {},
   "outputs": [
    {
     "data": {
      "text/plain": [
       "     fun: 2.9573434041869078\n",
       "   maxcv: 0.0\n",
       " message: 'Optimization terminated successfully.'\n",
       "    nfev: 25\n",
       "  status: 1\n",
       " success: True\n",
       "       x: array([0.5, 0.5, 0.5, 0.5])"
      ]
     },
     "execution_count": 6,
     "metadata": {},
     "output_type": "execute_result"
    }
   ],
   "source": [
    "expectation = CFQAOA.get_expectation(M,K,BW_max,Nt, Pt, tg, C, c_bar, c_tilde, p_param, lambda_s)\n",
    "\n",
    "theta = (2*p_param) * [0.5]\n",
    "\n",
    "res = minimize(expectation, \n",
    "                      theta, \n",
    "                      method='COBYLA')\n",
    "res"
   ]
  },
  {
   "cell_type": "code",
   "execution_count": 7,
   "id": "00c2a146",
   "metadata": {
    "scrolled": true
   },
   "outputs": [
    {
     "data": {
      "image/png": "[encoded data removed]",
      "text/plain": [
       "<Figure size 504x360 with 1 Axes>"
      ]
     },
     "execution_count": 7,
     "metadata": {},
     "output_type": "execute_result"
    }
   ],
   "source": [
    "backend = Aer.get_backend('aer_simulator')\n",
    "backend.shots = 1024\n",
    "\n",
    "qc_res = CFQAOA.create_qaoa_circ(M,K,BW_max,Nt, tg, C, c_bar, c_tilde, res.x, lambda_s)\n",
    "qc_res = transpile(qc_res, backend)\n",
    "counts = backend.run(qc_res, seed_simulator=2703).result().get_counts()\n",
    "\n",
    "plot_histogram(counts)"
   ]
  },
  {
   "cell_type": "markdown",
   "id": "cc8e53fc",
   "metadata": {},
   "source": [
    "Now check among the best solutions which is the better"
   ]
  },
  {
   "cell_type": "code",
   "execution_count": 8,
   "id": "bb28c2ed",
   "metadata": {
    "scrolled": true
   },
   "outputs": [
    {
     "name": "stdout",
     "output_type": "stream",
     "text": [
      "Identified  11  combinations within 75% of best value:\n",
      "\n",
      "['1011010011110000', '0100111010000111', '1110011100001000', '1100011001111100', '0110101010001000', '1001010011111000', '0110110111001110', '1000000000000101', '0110010011010110', '0101011011001101', '1000000001000101']\n",
      "Value of their objective function is:\n",
      "\n",
      "[-33.75071533265267, 3.108564129919743, -28.25935110274148, 23.21362768385341, 3.3111759561632983, 26.586949980004707, 7.797187419097408, -13.508250713036556, 3.811001862705332, 7.273590425636483, -35.903497683482804]\n",
      "\n",
      "Objective value without soft-constrain penalty:\n",
      "\n",
      "[0.36686175220330125, 0.11047185110497032, 0.4520128202786901, 0.42039004367700633, 0.13893235004648574, 0.3352389756016175, 0.1410946277066541, 0.31622776601683794, 0.13478505426185217, 0.12001120958477951, 0.31622776601683794]\n",
      "Soft-constraint value:\n",
      "\n",
      "for k =  0\n",
      "[0.0, 0.1459540656829574, 0.0, -0.09550632136235769, 0.0, 0.0, -0.04567038707283331, -0.23040797465088989, -0.039614930140101805, 0.008033972367708364, -0.23040797465088989]\n",
      "for k =  1\n",
      "[0.22314864081085756, 0.0, -0.03764452274590299, 0.9903834053164996, 0.1906636600171227, 1.139821401541239, 0.18908685874665065, 0.0, 0.23595953027311878, 0.20446155418603135, 0.0]\n",
      "for k =  2\n",
      "[-0.7917749255584571, -0.09598586103604453, -0.44087820930443306, -0.5149897899512015, -0.13779293324850914, -0.7022928848011876, -0.015814925150637926, 0.0, -0.1350743199922922, -0.0932692062862113, -0.37325411617410414]\n"
     ]
    }
   ],
   "source": [
    "x_best = max(counts, key=counts.get)\n",
    "v_best = counts[x_best]\n",
    "xbest_list = []\n",
    "[xbest_list.append(k) for k,v in counts.items() if float(v) >= 0.6*v_best]\n",
    "print('Identified ',len(xbest_list),' combinations within 75% of best value:\\n')\n",
    "print(xbest_list)\n",
    "print('Value of their objective function is:\\n')\n",
    "print([-CFQAOA.problem_objective(x_best,tg,Pt, C, lambda_s) for x_best in xbest_list])\n",
    "\n",
    "xv_best_list = []\n",
    "for x in xbest_list:\n",
    "    xv = np.zeros(len(x))\n",
    "    for i in range(len(x)):\n",
    "        if x[i] == '1':\n",
    "            xv[i] = 1\n",
    "    xv_best_list.append(xv[::-1])\n",
    "    \n",
    "    \n",
    "print('\\nObjective value without soft-constrain penalty:\\n')\n",
    "print([tg.T @ (Pt @ xv_best) for xv_best in xv_best_list])\n",
    "\n",
    "print('Soft-constraint value:\\n')\n",
    "for k in range(K):\n",
    "    A = A_list[k]\n",
    "    B = B_list[k]\n",
    "    print('for k = ',k)\n",
    "    print([ xv_best.T @ ((A-B) @ xv_best) for xv_best in xv_best_list])\n"
   ]
  },
  {
   "cell_type": "code",
   "execution_count": 9,
   "id": "36031bda",
   "metadata": {
    "scrolled": true
   },
   "outputs": [
    {
     "name": "stdout",
     "output_type": "stream",
     "text": [
      "Optimal string:  0110110111001110\n",
      "Optimal string:  0110010011010110\n",
      "Optimal string:  0101011011001101\n",
      "Optimal string:  1100011001111100\n",
      "Optimal string:  1011010011110000\n",
      "Optimal string:  0100111010000111\n",
      "Optimal string:  1110011100001000\n",
      "Optimal string:  0110101010001000\n",
      "Optimal string:  1001010011111000\n",
      "Optimal string:  1000000000000101\n",
      "Optimal string:  1000000001000101\n",
      "Optimal SINR:  [0.09350769 0.40039065 0.13707045]\n",
      "Optimal SINR:  [0.09350769 0.44924308 0.08705006]\n",
      "Optimal SINR:  [0.12662246 0.40039065 0.08705006]\n",
      "Optimal SINR:  [0.03475938 0.98471911 0.04192139]\n",
      "Optimal SINR:  [0.         0.58440997 0.08705006]\n",
      "Optimal SINR:  [0.18620322 0.         0.04512871]\n",
      "Optimal SINR:  [0.         0.40039065 0.0513252 ]\n",
      "Optimal SINR:  [0.         0.40039065 0.04512871]\n",
      "Optimal SINR:  [0.         0.98471911 0.08705006]\n",
      "Optimal SINR:  [0.12662246 0.         0.        ]\n",
      "Optimal SINR:  [0.12662246 0.         0.04192139]\n"
     ]
    },
    {
     "name": "stderr",
     "output_type": "stream",
     "text": [
      "/home/alb/Scrivania/Quantum/Projects/Applications/QAOA-CellFreeMIMO/src/CellFreeQAOA.py:309: RuntimeWarning: invalid value encountered in double_scalars\n",
      "  snr[k] = num/den\n"
     ]
    },
    {
     "data": {
      "text/plain": [
       "[None, None, None, None, None, None, None, None, None, None, None]"
      ]
     },
     "execution_count": 9,
     "metadata": {},
     "output_type": "execute_result"
    }
   ],
   "source": [
    "xbest_list_sorted = CFQAOA.best_n_SINR(xbest_list, M, K, eta, alpha, beta, rho)\n",
    "[print('Optimal string: ', elem) for elem in xbest_list_sorted] \n",
    "[print('Optimal SINR: ', CFQAOA.SINR_from_bitstring(elem, M, K, eta, alpha, beta, rho)) for elem in xbest_list_sorted] "
   ]
  },
  {
   "cell_type": "markdown",
   "id": "8c0fd146",
   "metadata": {},
   "source": [
    "Solve problem by brute force"
   ]
  },
  {
   "cell_type": "code",
   "execution_count": 10,
   "id": "cbe9bfa1",
   "metadata": {},
   "outputs": [
    {
     "name": "stdout",
     "output_type": "stream",
     "text": [
      "Actual full search best\n",
      "\n",
      "ID:  364\n",
      "MIN SINR:  0.13707044774549082\n",
      "Best X:  [[1. 0. 1.]\n",
      " [1. 1. 1.]\n",
      " [0. 0. 1.]]\n"
     ]
    },
    {
     "data": {
      "text/plain": [
       "(array([[1., 0., 1.],\n",
       "        [1., 1., 1.],\n",
       "        [0., 0., 1.]]),\n",
       " 0.13707044774549082)"
      ]
     },
     "execution_count": 10,
     "metadata": {},
     "output_type": "execute_result"
    }
   ],
   "source": [
    "CFQAOA.bruteforce_SINR(M, K, BW_max, eta, alpha, beta, rho)"
   ]
  }
 ],
 "metadata": {
  "kernelspec": {
   "display_name": "Python 3 (ipykernel)",
   "language": "python",
   "name": "python3"
  },
  "language_info": {
   "codemirror_mode": {
    "name": "ipython",
    "version": 3
   },
   "file_extension": ".py",
   "mimetype": "text/x-python",
   "name": "python",
   "nbconvert_exporter": "python",
   "pygments_lexer": "ipython3",
   "version": "3.7.4"
  }
 },
 "nbformat": 4,
 "nbformat_minor": 5
}
