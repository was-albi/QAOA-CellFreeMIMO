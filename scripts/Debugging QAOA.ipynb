{
 "cells": [
  {
   "cell_type": "code",
   "execution_count": 1,
   "id": "eb7acf02",
   "metadata": {},
   "outputs": [],
   "source": [
    "import numpy as np\n",
    "import scipy.special\n",
    "import cvxpy as cp\n",
    "\n",
    "from scipy.optimize import minimize\n",
    "\n",
    "# Importing standard Qiskit libraries\n",
    "from qiskit import QuantumCircuit, ClassicalRegister, QuantumRegister, transpile, Aer, IBMQ, execute\n",
    "from qiskit.circuit import Parameter\n",
    "from qiskit.tools.jupyter import *\n",
    "from qiskit.visualization import *\n",
    "#from ibm_quantum_widgets import *\n",
    "from qiskit.providers.aer import QasmSimulator\n",
    "\n",
    "from src import QAOA_utilities as QAOAut\n",
    "from src import CellFreeQAOA as CFQAOA\n",
    "\n",
    "# Loading your IBM Quantum account(s)\n",
    "#provider = IBMQ.load_account()"
   ]
  },
  {
   "cell_type": "code",
   "execution_count": 2,
   "id": "da2bfbdd",
   "metadata": {},
   "outputs": [],
   "source": [
    "M = 3 # number of cells\n",
    "K = 3 # number of users\n",
    "rho = 1 # max power\n",
    "BW_max = 7 # max BW, M_hat in paper\n",
    "rng = np.random.default_rng(2744)\n",
    "#eta = np.random.rand(K) # power control fraction for each user\n",
    "#alpha = np.random.rand(M,K)\n",
    "#beta = np.random.rand(M,K)\n",
    "eta = rng.random(K) # power control fraction for each user TO BE OTPIMIZED\n",
    "alpha = rng.random((M,K))\n",
    "beta = rng.random((M,K))\n",
    "t = 1"
   ]
  },
  {
   "cell_type": "code",
   "execution_count": 3,
   "id": "a6917360",
   "metadata": {},
   "outputs": [],
   "source": [
    "def check_SINR(X, t, alpha, beta, rho, eta):\n",
    "    snr = CFQAOA.SINR(X, eta, alpha, beta, rho )\n",
    "    print(snr)\n",
    "    return(snr >= t)"
   ]
  },
  {
   "cell_type": "code",
   "execution_count": 4,
   "id": "f231093f",
   "metadata": {},
   "outputs": [],
   "source": [
    "def check_soft_contraints(xvec, t, alpha, beta, rho, eta, lambda_soft):\n",
    "    tg = 10.0 ** np.array([ -3, -2.8 , -2.5, -2.3 , -2.2, -2.0 , -1.8, -1.6 , -1.5, -1, -0.5]) # should find a good way to produce this\n",
    "    #tg = np.array([0.01, 0.43, 0.4345440739052959, 0.44])\n",
    "    Nt = len(tg)\n",
    "\n",
    "    # Build auxiliary matrices\n",
    "    Pt = np.concatenate((np.zeros((Nt,M*K)),np.eye(Nt)), axis = 1)\n",
    "    Pk_list = []\n",
    "    for k in range(K):\n",
    "        Pk = np.concatenate((np.zeros((M,M*k)), np.eye(M), np.zeros((M,M*(K-k-1)+Nt))), axis = 1 )\n",
    "        Pk_list.append(Pk)\n",
    "    Pm_list = []\n",
    "    for m in range(M):\n",
    "        Pm = np.zeros((K,M*K+Nt))\n",
    "        for k in range(K):\n",
    "            Pm[k,m+M*k] = 1\n",
    "        Pk_list.append(Pm)\n",
    "\n",
    "    one_vec = np.ones(M*K+Nt)\n",
    "    one_vec_tilde = np.concatenate((np.ones(M*K),np.zeros(Nt)))\n",
    "\n",
    "    # build A and B\n",
    "\n",
    "    A_list = []\n",
    "    B_list = []\n",
    "\n",
    "    b_tilde_list = []\n",
    "    A_tilde_list = []\n",
    "\n",
    "    for k in range(K):\n",
    "        A_tilde = np.zeros((M,M))\n",
    "        b_tilde = np.zeros(M)\n",
    "\n",
    "        for m in range(M):\n",
    "            for n in range(M):\n",
    "                A_tilde[m,n] = rho*eta[k]*alpha[m,k]*alpha[n,k]\n",
    "            b_tilde[m] = alpha[m,k]*(rho*(np.sum(np.multiply(eta,beta[m,:])) - beta[m,k]*eta[k]) + 1)\n",
    "\n",
    "        A_tilde_list.append(A_tilde)\n",
    "        b_tilde_list.append(b_tilde)\n",
    "\n",
    "        A_list.append( Pk_list[k].T@A_tilde@Pk_list[k] )\n",
    "        B_list.append( np.outer((Pt.T @ tg),(b_tilde.T @ Pk_list[k])) )\n",
    "\n",
    "    C = np.sum( [ A_list[k] - B_list[k] for k in range(len(A_list)) ] , 0 )\n",
    "\n",
    "    c_bar = np.sum(C,0)\n",
    "    c_tilde = np.sum(C,1)\n",
    "    \n",
    "    \n",
    "    obj = tg.T @ (Pt @ xvec) + lambda_soft* ( xvec.T @ (C @ xvec) )\n",
    "    print('QAOA objective = ', obj)\n",
    "    ccon = 0\n",
    "    for k in range(K):\n",
    "        print('A-B trace: ', np.trace(A_list[k] - B_list[k]))\n",
    "        \n",
    "        conk = xvec.T@((A_list[k] - B_list[k])@xvec)\n",
    "        print(k,' A-B constraint: ', conk, '\\n')\n",
    "        ccon += conk\n",
    "    print('Cumulative constrain (C) = ', ccon)\n",
    "    return ccon"
   ]
  },
  {
   "cell_type": "code",
   "execution_count": null,
   "id": "3c7d517f",
   "metadata": {},
   "outputs": [
    {
     "name": "stdout",
     "output_type": "stream",
     "text": [
      "----- Starting QAOA -----\n"
     ]
    }
   ],
   "source": [
    "tg = 10.0 ** np.array([ -3 , -2.5, -2.3 , -2.0, -1.5, -1, -0.5])\n",
    "lambda_0 = 10\n",
    "X_QAOA, t_QAOA, xt_QAOA = CFQAOA.optimize_links(BW_max, rho, eta, alpha, beta, t, lambda_0, tg)"
   ]
  },
  {
   "cell_type": "code",
   "execution_count": null,
   "id": "e8ef85f5",
   "metadata": {},
   "outputs": [],
   "source": [
    "X_opt , t_opt = CFQAOA.bruteforce_SINR(M, K, BW_max, eta, alpha, beta, rho)"
   ]
  },
  {
   "cell_type": "code",
   "execution_count": null,
   "id": "ed2b17b9",
   "metadata": {},
   "outputs": [],
   "source": [
    "print('QAOA X = \\n', X_QAOA)\n",
    "print('QAOA SNR = ',check_SINR(X_QAOA, t_QAOA, alpha, beta, rho, eta))\n",
    "print('\\n-------\\n')\n",
    "print('Optimal X = \\n', X_opt)\n",
    "print('Optimal SNR = ', check_SINR(X_opt, t_opt, alpha, beta, rho, eta))"
   ]
  },
  {
   "cell_type": "code",
   "execution_count": null,
   "id": "6705d1e4",
   "metadata": {
    "scrolled": true
   },
   "outputs": [],
   "source": [
    "x_vec = X_QAOA.flatten('F')\n",
    "x_QAOA = np.concatenate((x_vec,xt_QAOA))\n",
    "check_soft_contraints(x_QAOA, t, alpha, beta, rho, eta, 10)"
   ]
  }
 ],
 "metadata": {
  "kernelspec": {
   "display_name": "Python 3 (ipykernel)",
   "language": "python",
   "name": "python3"
  },
  "language_info": {
   "codemirror_mode": {
    "name": "ipython",
    "version": 3
   },
   "file_extension": ".py",
   "mimetype": "text/x-python",
   "name": "python",
   "nbconvert_exporter": "python",
   "pygments_lexer": "ipython3",
   "version": "3.7.4"
  }
 },
 "nbformat": 4,
 "nbformat_minor": 5
}
