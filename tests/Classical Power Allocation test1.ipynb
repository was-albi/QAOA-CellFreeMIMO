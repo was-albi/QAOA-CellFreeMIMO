{
 "cells": [
  {
   "cell_type": "code",
   "execution_count": 1,
   "id": "3b24074c",
   "metadata": {},
   "outputs": [],
   "source": [
    "import numpy as np\n",
    "import scipy.special\n",
    "import cvxpy as cp\n",
    "from scipy.optimize import minimize"
   ]
  },
  {
   "cell_type": "code",
   "execution_count": 2,
   "id": "f1379f9d",
   "metadata": {},
   "outputs": [],
   "source": [
    "M = 3 # number of cells\n",
    "K = 3 # number of users\n",
    "rho = 1 # max power\n",
    "BW_max = 6 # max BW, M_hat in paper\n",
    "rng = np.random.default_rng(2703)\n",
    "#eta = np.random.rand(K) # power control fraction for each user\n",
    "#alpha = np.random.rand(M,K)\n",
    "#beta = np.random.rand(M,K)\n",
    "eta = rng.random(K) # power control fraction for each user TO BE OTPIMIZED\n",
    "alpha = rng.random((M,K))\n",
    "beta = rng.random((M,K))"
   ]
  },
  {
   "cell_type": "code",
   "execution_count": 3,
   "id": "be9136d7",
   "metadata": {
    "scrolled": false
   },
   "outputs": [],
   "source": [
    "X_mat = rng.integers(0,2,(M,K))\n",
    "x_vec = X_mat.flatten('F')"
   ]
  },
  {
   "cell_type": "code",
   "execution_count": 4,
   "id": "81f21411",
   "metadata": {},
   "outputs": [],
   "source": [
    "def check_feasibility(t, eta, X, rho, alpha, beta ):\n",
    "    K = len(eta)\n",
    "    check_vec = np.zeros(len(eta))\n",
    "    for k in range(K):\n",
    "        num = rho*eta[k]*( X[:,k]@alpha[:,k] )**2\n",
    "        den = X[:,k]@alpha[:,k] - rho * ( X[:,k]@np.multiply(alpha[:,k],beta[:,k]) )* eta[k] # removing the k-th element so we can avoid creating a new list\n",
    "        for k1 in range(K):\n",
    "            den += rho * ( X[:,k]@np.multiply(alpha[:,k],beta[:,k1]) )* eta[k1] \n",
    "        check_vec[k] = int( num >= den*t )\n",
    "    return np.sum(check_vec) == K"
   ]
  },
  {
   "cell_type": "markdown",
   "id": "89abbe42",
   "metadata": {},
   "source": [
    "Now we fix $t$ and $X$ and try to cast and solve a convex feasibility problem with 'cvxpy'."
   ]
  },
  {
   "cell_type": "code",
   "execution_count": 5,
   "id": "85f40f56",
   "metadata": {},
   "outputs": [
    {
     "name": "stdout",
     "output_type": "stream",
     "text": [
      "prob is DCP: True\n"
     ]
    }
   ],
   "source": [
    "eta = cp.Variable(K, nonneg = True)\n",
    "G = cp.Parameter((K,K))\n",
    "d = cp.Parameter(K)\n",
    "prob = cp.Problem(cp.Minimize(0),\n",
    "                    [G@eta - d >= 0,\n",
    "                    eta <= np.ones(K)])\n",
    "\n",
    "print(\"prob is DCP:\", prob.is_dcp())"
   ]
  },
  {
   "cell_type": "code",
   "execution_count": 6,
   "id": "1404c64e",
   "metadata": {},
   "outputs": [],
   "source": [
    "# initialize parameters\n",
    "def initialize_feas_params(rho, X, alpha, beta, t):\n",
    "    \n",
    "    K = len(alpha[1,:])\n",
    "    dtmp = np.zeros(K)\n",
    "    Gtmp = np.zeros((K,K))\n",
    "    \n",
    "    for k in range(K): # for row\n",
    "        dtmp[k] = X[:,k].dot(alpha[:,k])\n",
    "        Gtmp[k,k] = rho/t * dtmp[k]**2\n",
    "        for k1 in range(K): # for column (excluding diagonal)\n",
    "            if k1 != k:\n",
    "                Gtmp[k,k1] = -rho * X[:,k].dot( np.multiply(alpha[:,k],beta[:,k1]) )\n",
    "    \n",
    "    \n",
    "    return [Gtmp,dtmp]"
   ]
  },
  {
   "cell_type": "code",
   "execution_count": 7,
   "id": "d4f23bea",
   "metadata": {
    "scrolled": true
   },
   "outputs": [],
   "source": [
    "tol = 10**(-7) # tolerance for the bisection algorithm  \n",
    "maxiter = 100"
   ]
  },
  {
   "cell_type": "code",
   "execution_count": 8,
   "id": "538036b0",
   "metadata": {},
   "outputs": [
    {
     "name": "stdout",
     "output_type": "stream",
     "text": [
      "Status:  infeasible\n",
      "Status:  optimal\n",
      "Status:  infeasible\n",
      "Status:  optimal\n",
      "Status:  infeasible\n",
      "Status:  optimal\n",
      "Status:  optimal\n",
      "Status:  infeasible\n",
      "Status:  infeasible\n",
      "Status:  optimal\n",
      "Status:  infeasible\n",
      "Status:  infeasible\n",
      "Status:  optimal\n",
      "Status:  optimal\n",
      "Status:  infeasible\n",
      "Status:  infeasible\n",
      "Status:  infeasible\n",
      "Status:  optimal\n",
      "Status:  optimal\n",
      "Status:  optimal\n",
      "Status:  optimal\n",
      "Status:  infeasible\n",
      "Status:  infeasible\n",
      "Status:  infeasible\n"
     ]
    }
   ],
   "source": [
    "# Bisection algorithm\n",
    "tmin = 0\n",
    "tmax = 1\n",
    "\n",
    "it = 0\n",
    "\n",
    "while (tmax-tmin)>tol and it < maxiter :\n",
    "    it = it+1\n",
    "    t = (tmin + tmax)/2\n",
    "    \n",
    "    G.value, d.value = initialize_feas_params(rho, X_mat, alpha, beta, t)\n",
    "    \n",
    "    \n",
    "    prob.solve()\n",
    "    print('Status: ', prob.status)\n",
    "    if prob.status=='infeasible':\n",
    "        tmax = t\n",
    "    else:\n",
    "        tmin = t\n",
    "\n"
   ]
  },
  {
   "cell_type": "code",
   "execution_count": 9,
   "id": "9b1ba905",
   "metadata": {},
   "outputs": [
    {
     "name": "stdout",
     "output_type": "stream",
     "text": [
      "Status:  optimal\n",
      "Solution:  [0.79411479 0.83571152 0.99999992]\n"
     ]
    }
   ],
   "source": [
    "G.value, d.value = initialize_feas_params(rho, X_mat, alpha, beta, tmin)\n",
    "prob.solve()\n",
    "print('Status: ', prob.status)\n",
    "eta_opt = prob.variables()\n",
    "print('Solution: ', eta.value)"
   ]
  }
 ],
 "metadata": {
  "kernelspec": {
   "display_name": "Python 3 (ipykernel)",
   "language": "python",
   "name": "python3"
  },
  "language_info": {
   "codemirror_mode": {
    "name": "ipython",
    "version": 3
   },
   "file_extension": ".py",
   "mimetype": "text/x-python",
   "name": "python",
   "nbconvert_exporter": "python",
   "pygments_lexer": "ipython3",
   "version": "3.7.4"
  }
 },
 "nbformat": 4,
 "nbformat_minor": 5
}
