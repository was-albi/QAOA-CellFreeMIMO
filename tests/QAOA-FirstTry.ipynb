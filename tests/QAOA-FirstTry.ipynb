{
 "cells": [
  {
   "cell_type": "code",
   "execution_count": 1,
   "id": "f99bab99-98dc-4ff6-9fe5-238149362ea6",
   "metadata": {},
   "outputs": [],
   "source": [
    "import numpy as np\n",
    "\n",
    "# Importing standard Qiskit libraries\n",
    "from qiskit import QuantumCircuit, ClassicalRegister, QuantumRegister, transpile, Aer, IBMQ, execute\n",
    "from qiskit.circuit import Parameter\n",
    "from qiskit.tools.jupyter import *\n",
    "from qiskit.visualization import *\n",
    "#from ibm_quantum_widgets import *\n",
    "from qiskit.providers.aer import QasmSimulator\n",
    "\n",
    "# Loading your IBM Quantum account(s)\n",
    "provider = IBMQ.load_account()"
   ]
  },
  {
   "cell_type": "code",
   "execution_count": 2,
   "id": "90f09f34-075f-47de-915a-8168125791f2",
   "metadata": {},
   "outputs": [],
   "source": [
    "nqubits = 16\n",
    "\n",
    "beta = Parameter(\"$\\\\beta$\")\n",
    "qc_mix = QuantumCircuit(nqubits)\n",
    "for i in range(0, nqubits):\n",
    "    qc_mix.rx(2 * beta, i)\n",
    "    \n",
    "#qc_mix.draw()"
   ]
  },
  {
   "cell_type": "code",
   "execution_count": 3,
   "id": "641e64f0-4fe2-435b-81c0-e2f950db4690",
   "metadata": {},
   "outputs": [],
   "source": [
    "M = 3 # number of cells\n",
    "K = 3 # number of users\n",
    "rho = 1 # max power\n",
    "BW_max = 8 # max BW, M_hat in paper\n",
    "eta = np.random.rand(K) # power control fraction for each user\n",
    "alpha = np.random.rand(M,K)\n",
    "beta = np.random.rand(M,K)"
   ]
  },
  {
   "cell_type": "code",
   "execution_count": 4,
   "id": "603c7aba-9c67-4bf7-9adf-b80cad5ee89e",
   "metadata": {},
   "outputs": [],
   "source": [
    "#tg = 10.0 ** np.array([-3.2, -3, -2.8, -2.6, -2.4, -2.2, -2., -1.8, -1.6, -1.4, -1.2, -1, -0.8, -0.6, -0.4, -0.2, 0, 1, 2, 3])\n",
    "tg = 10.0 ** np.array([ -3, -2.5, -2., -1.5, -1, -0.5, 0])\n",
    "Nt = len(tg)\n",
    "x_t = np.zeros(Nt)\n",
    "\n",
    "X_mat = np.zeros((M,K))\n",
    "x_vec = X_mat.flatten('F')\n",
    "x = np.concatenate((x_vec,x_t))"
   ]
  },
  {
   "cell_type": "code",
   "execution_count": 5,
   "id": "9cd8741b-7116-4689-a577-e21d8aff4163",
   "metadata": {},
   "outputs": [],
   "source": [
    "Pt = np.concatenate((np.zeros((Nt,M*K)),np.eye(Nt)), axis = 1)\n",
    "Pk_list = []\n",
    "for k in range(K):\n",
    "    Pk = np.concatenate((np.zeros((M,M*k)), np.eye(M), np.zeros((M,M*(K-k-1)+Nt))), axis = 1 )\n",
    "    Pk_list.append(Pk)\n",
    "Pm_list = []\n",
    "for m in range(M):\n",
    "    Pm = np.zeros((K,M*K+Nt))\n",
    "    for k in range(K):\n",
    "        Pm[k,m+M*k] = 1\n",
    "    Pk_list.append(Pm)\n",
    "    \n",
    "one_vec = np.ones(M*K+Nt)\n",
    "one_vec_tilde = np.concatenate((np.ones(M*K),np.zeros(Nt)))"
   ]
  },
  {
   "cell_type": "code",
   "execution_count": 6,
   "id": "8bcb9eb1-ff3e-446e-909a-4839505a8951",
   "metadata": {},
   "outputs": [],
   "source": [
    "# build A and B\n",
    "\n",
    "A_list = []\n",
    "B_list = []\n",
    "\n",
    "b_tilde_list = []\n",
    "A_tilde_list = []\n",
    "\n",
    "for k in range(K):\n",
    "    A_tilde = np.zeros((M,M))\n",
    "    b_tilde = np.zeros(M)\n",
    "\n",
    "    for m in range(M):\n",
    "        for n in range(M):\n",
    "            A_tilde[m,n] = rho*eta[k]*alpha[m,k]*alpha[n,k]\n",
    "        b_tilde[m] = alpha[m,k]*(rho*(np.sum(np.multiply(eta,beta[m,:])) - beta[m,k]*eta[k]) + 1)\n",
    "    \n",
    "    A_tilde_list.append(A_tilde)\n",
    "    b_tilde_list.append(b_tilde)\n",
    "    \n",
    "    A_list.append( Pk_list[k].T@A_tilde@Pk_list[k] )\n",
    "    B_list.append( np.outer((Pt.T @ tg),(b_tilde.T @ Pk_list[k])) )\n",
    "    \n",
    "    "
   ]
  },
  {
   "cell_type": "code",
   "execution_count": 7,
   "id": "5f277b23-1f74-4c7b-a27d-148bef105692",
   "metadata": {},
   "outputs": [
    {
     "name": "stdout",
     "output_type": "stream",
     "text": [
      "(16, 16)\n",
      "(3, 3)\n",
      "(9, 9)\n",
      "[[1. 1. 1. 0. 0. 0. 0. 0. 0.]\n",
      " [1. 1. 1. 0. 0. 0. 0. 0. 0.]\n",
      " [1. 1. 1. 0. 0. 0. 0. 0. 0.]\n",
      " [0. 0. 0. 1. 1. 1. 0. 0. 0.]\n",
      " [0. 0. 0. 1. 1. 1. 0. 0. 0.]\n",
      " [0. 0. 0. 1. 1. 1. 0. 0. 0.]\n",
      " [0. 0. 0. 0. 0. 0. 1. 1. 1.]\n",
      " [0. 0. 0. 0. 0. 0. 1. 1. 1.]\n",
      " [0. 0. 0. 0. 0. 0. 1. 1. 1.]]\n"
     ]
    }
   ],
   "source": [
    "C = np.sum( [ A_list[k] - B_list[k] for k in range(len(A_list)) ] , 0 )\n",
    "EM = np.ones((M,M))\n",
    "EMK = np.ones((M*K,M*K))\n",
    "IK = np.eye(K)\n",
    "D = np.kron(IK,EM)\n",
    "\n",
    "print(C.shape)\n",
    "print(EM.shape)\n",
    "print(D.shape)\n",
    "print(D)"
   ]
  },
  {
   "cell_type": "code",
   "execution_count": 8,
   "id": "beefd180-c84b-4f01-8c5c-f9c96341e57c",
   "metadata": {},
   "outputs": [
    {
     "name": "stdout",
     "output_type": "stream",
     "text": [
      "[ 1.17265003e+00  1.15620127e+00  1.71106172e+00  6.49787518e-02\n",
      "  6.46566275e-02  8.95740753e-02  8.52082926e-02  1.85540095e-02\n",
      "  1.17966178e-01 -6.10439394e-03 -1.93037886e-02 -6.10439394e-02\n",
      " -1.93037886e-01 -6.10439394e-01 -1.93037886e+00 -6.10439394e+00]\n",
      "[-0.18875177 -0.37451419 -0.77656075 -0.56292432 -0.71031228 -0.95914276\n",
      " -0.31837708 -0.0887792  -0.46448888  0.          0.          0.\n",
      "  0.          0.          0.          0.        ]\n",
      "-0.18875176681545147\n",
      "1.1726500276208578\n"
     ]
    }
   ],
   "source": [
    "c_bar = np.sum(C,0)\n",
    "c_tilde = np.sum(C,1)\n",
    "\n",
    "print(c_tilde)\n",
    "print(c_bar)\n",
    "print(np.sum(C[:,0]))\n",
    "print(np.sum(C[0,:]))"
   ]
  },
  {
   "cell_type": "code",
   "execution_count": 9,
   "id": "290b40ce-7a12-41ee-b188-0d24f5e36500",
   "metadata": {},
   "outputs": [],
   "source": [
    "F = np.block( [[ C[0:(M*K),0:(M*K)]+D-EMK, np.zeros((M*K,Nt)) ], [ np.zeros((Nt,M*K)), np.eye(Nt) ]] )"
   ]
  },
  {
   "cell_type": "code",
   "execution_count": 10,
   "id": "de0b311f-e629-4812-be72-a2c9692e83a2",
   "metadata": {},
   "outputs": [
    {
     "name": "stdout",
     "output_type": "stream",
     "text": [
      "73\n"
     ]
    }
   ],
   "source": [
    "gamma = Parameter(\"$\\\\gamma$\")\n",
    "qc_p = QuantumCircuit(nqubits)\n",
    "for i in range(M*K+Nt):  # pairs of nodes\n",
    "    for j in range(M*K+Nt):\n",
    "        if(i != j and abs(F[i,j])>10**(-10)):\n",
    "            qc_p.rzz(2 * gamma * F[i,j], i, j)\n",
    "            qc_p.barrier()\n",
    "    \n",
    "for i in range(M*K+Nt):\n",
    "    coef = c_tilde[i] + c_bar[i]\n",
    "    if(i > M*K):\n",
    "        coef += tg[i-M*K]\n",
    "    if(abs(coef) > 10**(-10)):\n",
    "        qc_p.rz(2 * gamma * coef, i)\n",
    "    \n",
    "print(qc_p.depth())\n",
    "#qc_p.decompose().draw()"
   ]
  },
  {
   "cell_type": "code",
   "execution_count": 11,
   "id": "847d6fed-5f00-479e-aff1-3bda62c36018",
   "metadata": {},
   "outputs": [],
   "source": [
    "qc_0 = QuantumCircuit(nqubits)\n",
    "for i in range(0, nqubits):\n",
    "    qc_0.h(i)\n",
    "    \n",
    "#qc_0.draw()"
   ]
  },
  {
   "cell_type": "code",
   "execution_count": 12,
   "id": "dd2612a3-1909-4ec7-bf2d-0f0358801dfb",
   "metadata": {},
   "outputs": [
    {
     "data": {
      "text/plain": [
       "<qiskit.circuit.instructionset.InstructionSet at 0x7f1b5df6e910>"
      ]
     },
     "execution_count": 12,
     "metadata": {},
     "output_type": "execute_result"
    }
   ],
   "source": [
    "qc_qaoa = QuantumCircuit(nqubits)\n",
    "\n",
    "qc_qaoa.append(qc_0, [i for i in range(0, nqubits)])\n",
    "qc_qaoa.append(qc_p, [i for i in range(0, nqubits)])\n",
    "qc_qaoa.append(qc_mix, [i for i in range(0, nqubits)])\n",
    "\n",
    "#qc_qaoa.decompose().decompose().draw()"
   ]
  },
  {
   "cell_type": "code",
   "execution_count": 13,
   "id": "364df5f6-aff2-4c50-9bd1-57010b981df6",
   "metadata": {},
   "outputs": [],
   "source": [
    "def problem_objective(x, tg, Pt):\n",
    "    \n",
    "    # convert x to binary vector\n",
    "    xv = np.zeros(len(x))\n",
    "    for i in range(len(x)):\n",
    "        if x[i] == '1':\n",
    "            xv[i] = 1\n",
    "    \n",
    "    obj = tg.T @ (Pt @ xv)\n",
    "    \n",
    "    return -obj  # we minimize\n",
    "\n",
    "def compute_expectation(counts, tg, Pt):\n",
    "    \n",
    "    \"\"\"\n",
    "    Computes expectation value based on measurement results\n",
    "    \n",
    "    Args:\n",
    "        counts: dict\n",
    "                key as bitstring, val as count\n",
    "           \n",
    "        G: networkx graph\n",
    "        \n",
    "    Returns:\n",
    "        avg: float\n",
    "             expectation value\n",
    "    \"\"\"\n",
    "    \n",
    "    avg = 0\n",
    "    sum_count = 0\n",
    "    for bitstring, count in counts.items():\n",
    "        \n",
    "        obj = problem_objective(bitstring, tg, Pt)\n",
    "        avg += obj * count\n",
    "        sum_count += count\n",
    "        \n",
    "    return avg/sum_count\n",
    "\n",
    "\n",
    "# We will also bring the different circuit components that\n",
    "# build the qaoa circuit under a single function\n",
    "def create_qaoa_circ(M,K,BW_max,Nt, tg, F, c_bar, c_tilde, theta):\n",
    "    \n",
    "    \"\"\"\n",
    "    Creates a parametrized qaoa circuit\n",
    "    \n",
    "    Args:  \n",
    "        G: networkx graph\n",
    "        theta: list\n",
    "               unitary parameters\n",
    "                     \n",
    "    Returns:\n",
    "        qc: qiskit circuit\n",
    "    \"\"\"\n",
    "    lambda_param = 100 # param that weigh contraints vs objective\n",
    "    nqubits = M*K+Nt\n",
    "    p = len(theta)//2  # number of alternating unitaries\n",
    "    qc = QuantumCircuit(nqubits)\n",
    "    \n",
    "    beta = theta[:p]\n",
    "    gamma = theta[p:]\n",
    "    \n",
    "    print(beta)\n",
    "    print(gamma)\n",
    "    \n",
    "    # initial_state\n",
    "    for i in range(0, nqubits):\n",
    "        qc.h(i)\n",
    "    \n",
    "    for irep in range(0, p):\n",
    "        \n",
    "        # problem unitary\n",
    "        for i in range(M*K+Nt):  # pairs of nodes\n",
    "            for j in range(M*K+Nt):\n",
    "                if(i != j and abs(F[i,j])>10**(-10)):\n",
    "                    qc.rzz(2 * F[i,j].item() * gamma[irep].item(), i, j)\n",
    "                    \n",
    "\n",
    "        for i in range(M*K+Nt):\n",
    "            coef = c_tilde[i] + c_bar[i]\n",
    "            if(i > M*K):\n",
    "                coef += tg[i-M*K]/lambda_param\n",
    "            else:\n",
    "                coef += 2*(4*BW_max -(M-1)*K -2)\n",
    "            if(abs(coef) > 10**(-10)):\n",
    "                qc.rz(2 * gamma[irep].item() * coef, i)\n",
    "\n",
    "        # mixer unitary\n",
    "        for i in range(0, nqubits):\n",
    "            qc.rx(2 * beta[irep], i)\n",
    "            \n",
    "    qc.measure_all()\n",
    "        \n",
    "    return qc\n",
    "\n",
    "# Finally we write a function that executes the circuit on the chosen backend\n",
    "def get_expectation(M,K,BW_max,Nt, tg, F, c_bar, c_tilde, p, shots=512):\n",
    "    \n",
    "    \"\"\"\n",
    "    Runs parametrized circuit\n",
    "    \"\"\"\n",
    "    \n",
    "    backend = Aer.get_backend('qasm_simulator')\n",
    "    backend.shots = shots\n",
    "    \n",
    "    def execute_circ(theta):\n",
    "        \n",
    "        qc = create_qaoa_circ(M,K,BW_max,Nt, tg, F, c_bar, c_tilde, theta)\n",
    "        counts = backend.run(qc, seed_simulator=10, nshots=512).result().get_counts()\n",
    "        \n",
    "        return compute_expectation(counts, tg, Pt)\n",
    "    \n",
    "    return execute_circ"
   ]
  },
  {
   "cell_type": "code",
   "execution_count": 14,
   "id": "8dc298d3-aafa-4b1a-b872-add0cf34bed5",
   "metadata": {},
   "outputs": [
    {
     "name": "stdout",
     "output_type": "stream",
     "text": [
      "[0.25 0.25 0.25 0.25]\n",
      "[0.25 0.25 0.25 0.25]\n",
      "[1.25 0.25 0.25 0.25]\n",
      "[0.25 0.25 0.25 0.25]\n",
      "[1.25 1.25 0.25 0.25]\n",
      "[0.25 0.25 0.25 0.25]\n",
      "[1.25 0.25 1.25 0.25]\n",
      "[0.25 0.25 0.25 0.25]\n",
      "[1.25 0.25 0.25 1.25]\n",
      "[0.25 0.25 0.25 0.25]\n",
      "[1.25 0.25 0.25 0.25]\n",
      "[1.25 0.25 0.25 0.25]\n",
      "[1.25 0.25 0.25 0.25]\n",
      "[0.25 1.25 0.25 0.25]\n",
      "[1.25 0.25 0.25 0.25]\n",
      "[0.25 0.25 1.25 0.25]\n",
      "[1.25 0.25 0.25 0.25]\n",
      "[0.25 0.25 0.25 1.25]\n",
      "[ 1.73737644 -0.32897893 -0.13039426  0.01504886]\n",
      "[ 0.21412801 -0.15593974  0.05248163  0.10080753]\n",
      "[ 2.31348344 -0.06228676 -0.58004218 -0.2626769 ]\n",
      "[ 0.17172525 -0.63578388 -0.18099645 -0.07554655]\n",
      "[ 1.34595596 -0.18820687 -0.24365888 -0.09821575]\n",
      "[ 0.1008634  -0.26920436 -0.06078298 -0.01245708]\n",
      "[ 1.8089388  -1.26227423 -0.04952586  0.15015112]\n",
      "[ 0.42346429 -0.08459692  0.20154208  0.26788808]\n",
      "[ 1.82592792 -0.31062782 -0.22933747 -0.07708104]\n",
      "[ 0.13132398  0.29211826 -0.03789474  0.01269499]\n",
      "[ 1.74807814 -0.34169202  0.00415744 -0.1940596 ]\n",
      "[ 0.22435691 -0.16485328  0.06271053  0.11103643]\n",
      "[ 1.80046981 -0.27232781  0.02101406  0.43016165]\n",
      "[ 0.0960708  -0.20510805 -0.07364174 -0.02290438]\n",
      "[ 1.74273174 -0.33534076 -0.13457404  0.01246722]\n",
      "[ 0.21924671 -0.16040021  0.21861357 -0.08563494]\n",
      "[ 1.72554095 -0.22753625 -0.33072144  0.12227967]\n",
      "[ 0.08438451 -0.14383582  0.28677791  0.44149105]\n",
      "[ 1.67781081 -0.19712456 -0.23042025  0.11474495]\n",
      "[ 0.66222372 -0.10475674  0.00356086  0.15841958]\n",
      "[ 1.86504449 -0.35651086 -0.29090683 -0.0170083 ]\n",
      "[ 0.19907618 -0.26162312 -0.02961042  0.0780858 ]\n",
      "[ 1.64429629 -0.5498451  -0.15535166  0.06275135]\n",
      "[ 0.22795335 -0.1286885   0.04912504  0.13560389]\n",
      "[ 1.63839380e+00 -2.89969567e-01 -1.64614758e-01  1.28784883e-03]\n",
      "[ 0.18042433 -0.17038991  0.01890031  0.07906247]\n",
      "[ 1.74539823e+00 -3.28173914e-01 -1.51645245e-01 -1.57292445e-03]\n",
      "[ 0.20778891 -0.10136362  0.04550911  0.09402438]\n",
      "[ 1.79964152 -0.33758267 -0.06328916  0.09750506]\n",
      "[ 0.2102347  -0.1628142   0.04806632  0.11783709]\n",
      "[ 1.7332088  -0.32717641 -0.12340894  0.0188492 ]\n",
      "[ 0.26288521 -0.15254941  0.02378619  0.07610515]\n",
      "[ 1.74294258 -0.31188161 -0.16481482  0.01729623]\n",
      "[ 0.25455966 -0.16685673  0.12982023  0.18066188]\n",
      "[ 1.74833322 -0.3465815  -0.09891192 -0.02973265]\n",
      "[ 0.20024059 -0.16839101  0.05807152  0.11084173]\n",
      "[ 1.75793496 -0.3481936  -0.11120869 -0.0320347 ]\n",
      "[ 0.19860219 -0.1763369   0.03696414  0.12546764]\n",
      "[ 1.76997983 -0.36199613 -0.11883797 -0.02882964]\n",
      "[ 0.18722712 -0.18887157  0.08711139  0.07382709]\n",
      "[ 1.75834873 -0.31844713 -0.096349   -0.03589421]\n",
      "[ 0.1979808  -0.17201606  0.05795394  0.10616046]\n",
      "[ 1.70210148 -0.34264704 -0.0792222  -0.01961896]\n",
      "[ 0.16778255 -0.16710538  0.07232553  0.11309338]\n",
      "[ 1.73398622 -0.34252573 -0.11493799 -0.0454259 ]\n",
      "[ 0.21065066 -0.17437776  0.06715497  0.11578587]\n",
      "[ 1.77917899 -0.35009538 -0.08402946 -0.01069752]\n",
      "[ 0.22055765 -0.1559804   0.08929382  0.13942458]\n",
      "[ 1.74990903 -0.35164314 -0.08559186 -0.02980797]\n",
      "[ 0.21897348 -0.16751175  0.04634409  0.09405476]\n",
      "[ 1.75391821 -0.34843951 -0.10640934 -0.0389979 ]\n",
      "[ 0.19221721 -0.14152418  0.05717421  0.10725628]\n",
      "[ 1.74205686 -0.34535646 -0.09342763 -0.02288806]\n",
      "[ 0.19120132 -0.17408965  0.06014042  0.11364491]\n",
      "[ 1.75004611 -0.34898225 -0.09535319 -0.03529374]\n",
      "[ 0.19833272 -0.17026266  0.05900965  0.11169267]\n",
      "[ 1.75480353 -0.35032863 -0.1052024  -0.02681857]\n",
      "[ 0.19703458 -0.17504523  0.0633131   0.10321667]\n",
      "[ 1.75515047 -0.34668423 -0.09601152 -0.02473457]\n",
      "[ 0.20576027 -0.16797781  0.06598493  0.11926802]\n",
      "[ 1.74780958 -0.34752172 -0.09501731 -0.02815767]\n",
      "[ 0.20442181 -0.17063138  0.05561298  0.10714279]\n",
      "[ 1.74671728 -0.34990049 -0.09966532 -0.02941308]\n",
      "[ 0.20080253 -0.16811369  0.05833575  0.11154856]\n",
      "[ 1.74488385 -0.34349355 -0.10189407 -0.032782  ]\n",
      "[ 0.20207932 -0.17121907  0.06111885  0.11170473]\n",
      "[ 1.74747335 -0.34647674 -0.09782554 -0.02986759]\n",
      "[ 0.20008305 -0.16632433  0.0604515   0.10901151]\n",
      "[ 1.74861935 -0.34525865 -0.10003304 -0.03070435]\n",
      "[ 0.19536418 -0.16082515  0.06084514  0.10904741]\n",
      "[ 1.74912449 -0.34639073 -0.09703635 -0.02867086]\n",
      "[ 0.2014628  -0.16621905  0.0625806   0.11101707]\n",
      "[ 1.74640375 -0.34598453 -0.09683375 -0.02980551]\n",
      "[ 0.19995487 -0.16588535  0.05997552  0.11001411]\n",
      "[ 1.74677916 -0.34658334 -0.09734378 -0.02805796]\n",
      "[ 0.19768488 -0.16836077  0.06155545  0.10863508]\n",
      "[ 1.74791133 -0.34704394 -0.09705447 -0.03128607]\n",
      "[ 0.19949491 -0.16672451  0.06075192  0.10932496]\n",
      "[ 1.74729305 -0.34661357 -0.09650573 -0.02975116]\n",
      "[ 0.20236707 -0.1670279   0.05947479  0.10640644]\n",
      "[ 1.74571047 -0.34502344 -0.09952481 -0.03137769]\n",
      "[ 0.20118556 -0.16751577  0.06194344  0.1091121 ]\n",
      "[ 1.74793002 -0.34634326 -0.09872196 -0.02990111]\n",
      "[ 0.19952666 -0.16493426  0.06004317  0.10839911]\n",
      "[ 1.74799115 -0.34569383 -0.09758802 -0.02984274]\n",
      "[ 0.20006646 -0.16638812  0.0605572   0.10901906]\n",
      "[ 1.74749238 -0.34772975 -0.0979263  -0.02927358]\n",
      "[ 0.2009666  -0.16606065  0.0612107   0.10968583]\n",
      "[ 1.74754021 -0.34661932 -0.09817935 -0.02988544]\n",
      "[ 0.2000969  -0.16679237  0.0597389   0.10928777]\n",
      "[ 1.74749617 -0.34648498 -0.09769898 -0.03003581]\n",
      "[ 0.20044229 -0.16623172  0.06027983  0.108849  ]\n",
      "[ 1.74709716 -0.34661113 -0.09775223 -0.02950661]\n",
      "[ 0.19946405 -0.16660998  0.06072537  0.10866705]\n",
      "[ 1.74734318 -0.3463314  -0.0981243  -0.02999939]\n",
      "[ 0.20001793 -0.16636428  0.06066611  0.10921604]\n",
      "[ 1.74704263 -0.34640176 -0.09779344 -0.03030592]\n",
      "[ 0.20063622 -0.16632077  0.0604386   0.10849848]\n",
      "[ 1.74759391 -0.34666195 -0.09766822 -0.03022605]\n",
      "[ 0.19991207 -0.16631138  0.0605041   0.10907608]\n",
      "[ 1.74733813 -0.34639744 -0.09773261 -0.02988167]\n",
      "[ 0.20002453 -0.16624324  0.06035489  0.10909436]\n",
      "[ 1.74757787 -0.34673472 -0.09781208 -0.02970802]\n",
      "[ 0.2003126  -0.16619501  0.06065329  0.10917011]\n",
      "[ 1.7476042  -0.34651432 -0.09807054 -0.02987615]\n",
      "[ 0.19996584 -0.16599671  0.06037019  0.10883236]\n",
      "[ 1.7473957  -0.34647909 -0.09781599 -0.02997194]\n",
      "[ 0.2002374  -0.16637424  0.06048185  0.1088876 ]\n",
      "[ 1.74750781 -0.34640441 -0.09777781 -0.02986419]\n",
      "[ 0.20008062 -0.1662904   0.06051885  0.10898916]\n",
      "[ 1.7475236  -0.34654744 -0.09789856 -0.02985545]\n",
      "[ 0.20009573 -0.16647542  0.06031528  0.10908263]\n",
      "[ 1.74740244 -0.346547   -0.09783627 -0.02983943]\n",
      "[ 0.20003282 -0.16634156  0.06046874  0.10898133]\n",
      "[ 1.74762335 -0.346317   -0.09775025 -0.02985756]\n",
      "[ 0.20010064 -0.16634255  0.0605234   0.10901418]\n",
      "[ 1.74750233 -0.34647548 -0.09787504 -0.02988861]\n",
      "[ 0.20008984 -0.16625608  0.06041877  0.10898937]\n",
      "[ 1.74746153 -0.34646216 -0.09783927 -0.02982875]\n",
      "[ 0.20010374 -0.16632198  0.06044837  0.10900893]\n",
      "[ 1.74746732 -0.34650319 -0.09781974 -0.02982078]\n",
      "[ 0.20015701 -0.16629294  0.06047577  0.1090673 ]\n",
      "[ 1.74745268 -0.34648962 -0.09785147 -0.02983604]\n",
      "[ 0.20015282 -0.16629811  0.06049525  0.10908824]\n",
      "[ 1.74751927 -0.34646179 -0.09776274 -0.02978424]\n",
      "[ 0.20018156 -0.16630224  0.06049306  0.10906352]\n",
      "[ 1.74749496 -0.34652286 -0.09784199 -0.02981535]\n",
      "[ 0.20016446 -0.16632051  0.06047565  0.10906441]\n",
      "[ 1.74743375 -0.34648798 -0.09779071 -0.02982834]\n",
      "[ 0.20017247 -0.16630104  0.06039885  0.10910631]\n",
      "[ 1.74745554 -0.34650813 -0.09781151 -0.0298383 ]\n",
      "[ 0.20018937 -0.16629949  0.06047698  0.10903778]\n",
      "[ 1.74744903 -0.34644842 -0.09784988 -0.02983002]\n",
      "[ 0.20013462 -0.16628233  0.06052588  0.10911776]\n"
     ]
    },
    {
     "data": {
      "text/plain": [
       "     fun: -1.1178589193681376\n",
       "   maxcv: 0.0\n",
       " message: 'Optimization terminated successfully.'\n",
       "    nfev: 76\n",
       "  status: 1\n",
       " success: True\n",
       "       x: array([ 1.74744903, -0.34644842, -0.09784988, -0.02983002,  0.20013462,\n",
       "       -0.16628233,  0.06052588,  0.10911776])"
      ]
     },
     "execution_count": 14,
     "metadata": {},
     "output_type": "execute_result"
    }
   ],
   "source": [
    "from scipy.optimize import minimize\n",
    "\n",
    "\n",
    "expectation = get_expectation(M,K,BW_max,Nt, tg, F, c_bar, c_tilde, p=4)\n",
    "\n",
    "res = minimize(expectation, \n",
    "                      [0.25, 0.25, 0.25, 0.25, 0.25, 0.25, 0.25, 0.25], \n",
    "                      method='COBYLA')\n",
    "res"
   ]
  },
  {
   "cell_type": "code",
   "execution_count": 15,
   "id": "103e417a-d889-40b7-9cfe-f71cb1175d6e",
   "metadata": {},
   "outputs": [],
   "source": [
    "from qiskit.visualization import plot_histogram"
   ]
  },
  {
   "cell_type": "code",
   "execution_count": 16,
   "id": "332de9a5-e673-4ed5-a962-5374b530bcba",
   "metadata": {},
   "outputs": [
    {
     "name": "stdout",
     "output_type": "stream",
     "text": [
      "[ 1.74744903 -0.34644842 -0.09784988 -0.02983002]\n",
      "[ 0.20013462 -0.16628233  0.06052588  0.10911776]\n"
     ]
    },
    {
     "data": {
      "image/png": "[encoded data removed]",
      "text/plain": [
       "<Figure size 504x360 with 1 Axes>"
      ]
     },
     "execution_count": 16,
     "metadata": {},
     "output_type": "execute_result"
    }
   ],
   "source": [
    "backend = Aer.get_backend('aer_simulator')\n",
    "backend.shots = 512\n",
    "\n",
    "qc_res = create_qaoa_circ(M,K,BW_max,Nt, tg, F, c_bar, c_tilde, res.x)\n",
    "\n",
    "counts = backend.run(qc_res, seed_simulator=42).result().get_counts()\n",
    "\n",
    "plot_histogram(counts)"
   ]
  },
  {
   "cell_type": "code",
   "execution_count": 17,
   "id": "22dee091-1703-4260-b9fd-87d4b88972c8",
   "metadata": {},
   "outputs": [
    {
     "name": "stdout",
     "output_type": "stream",
     "text": [
      "4\n",
      "['0100001111000111', '0011001111000111', '0110011111001111']\n",
      "[1.417227766016838, 1.417227766016838, 1.4488505426185219]\n"
     ]
    }
   ],
   "source": [
    "x_best = max(counts, key=counts.get)\n",
    "v_best = counts[x_best]\n",
    "print(v_best)\n",
    "xbest_list = []\n",
    "[xbest_list.append(k) for k,v in counts.items() if float(v) >= 0.8*v_best]\n",
    "print(xbest_list)\n",
    "print([-problem_objective(x_best,tg,Pt) for x_best in xbest_list])"
   ]
  }
 ],
 "metadata": {
  "kernelspec": {
   "display_name": "Python 3 (ipykernel)",
   "language": "python",
   "name": "python3"
  },
  "language_info": {
   "codemirror_mode": {
    "name": "ipython",
    "version": 3
   },
   "file_extension": ".py",
   "mimetype": "text/x-python",
   "name": "python",
   "nbconvert_exporter": "python",
   "pygments_lexer": "ipython3",
   "version": "3.7.4"
  },
  "widgets": {
   "application/vnd.jupyter.widget-state+json": {
    "state": {
     "0b9870d50b274d2789be037fedb4574e": {
      "model_module": "@jupyter-widgets/controls",
      "model_module_version": "1.5.0",
      "model_name": "DescriptionStyleModel",
      "state": {
       "description_width": ""
      }
     },
     "0f4070283573448494c0e77c19ba19c8": {
      "model_module": "@jupyter-widgets/controls",
      "model_module_version": "1.5.0",
      "model_name": "HTMLModel",
      "state": {
       "layout": "IPY_MODEL_4dc1f053ada846078a4bf9a8c51bd3d3",
       "style": "IPY_MODEL_1a8f15b0c2af4295867358d67e30aada",
       "value": "<h5>Job ID</h5>"
      }
     },
     "1a8f15b0c2af4295867358d67e30aada": {
      "model_module": "@jupyter-widgets/controls",
      "model_module_version": "1.5.0",
      "model_name": "DescriptionStyleModel",
      "state": {
       "description_width": ""
      }
     },
     "2ad57e2fda524570bf39257258380f50": {
      "model_module": "@jupyter-widgets/base",
      "model_module_version": "1.2.0",
      "model_name": "LayoutModel",
      "state": {
       "grid_area": "right",
       "padding": "0px 0px 0px 0px",
       "width": "70px"
      }
     },
     "2afd9ee7df8949cbb7d620d6bb9ba4f5": {
      "model_module": "@jupyter-widgets/controls",
      "model_module_version": "1.5.0",
      "model_name": "HTMLModel",
      "state": {
       "layout": "IPY_MODEL_ce3c9da76b8148378446aba0e82bd2e5",
       "style": "IPY_MODEL_36d05241bce64877826faec2f7f7bc41",
       "value": "<h5>Message</h5>"
      }
     },
     "2c4947d97ecc47caa94329fc4190edf2": {
      "model_module": "@jupyter-widgets/base",
      "model_module_version": "1.2.0",
      "model_name": "LayoutModel",
      "state": {
       "width": "70px"
      }
     },
     "2f34ec51022b4b9cb1872e7a690ab69b": {
      "model_module": "@jupyter-widgets/controls",
      "model_module_version": "1.5.0",
      "model_name": "DescriptionStyleModel",
      "state": {
       "description_width": ""
      }
     },
     "36d05241bce64877826faec2f7f7bc41": {
      "model_module": "@jupyter-widgets/controls",
      "model_module_version": "1.5.0",
      "model_name": "DescriptionStyleModel",
      "state": {
       "description_width": ""
      }
     },
     "46758690e5be44c1b558e172ef3fd98d": {
      "model_module": "@jupyter-widgets/base",
      "model_module_version": "1.2.0",
      "model_name": "LayoutModel",
      "state": {
       "width": "95px"
      }
     },
     "4dc1f053ada846078a4bf9a8c51bd3d3": {
      "model_module": "@jupyter-widgets/base",
      "model_module_version": "1.2.0",
      "model_name": "LayoutModel",
      "state": {
       "width": "190px"
      }
     },
     "553fd51506c5437293d2ab59ad40fa10": {
      "model_module": "@jupyter-widgets/base",
      "model_module_version": "1.2.0",
      "model_name": "LayoutModel",
      "state": {
       "margin": "0px 0px 10px 0px"
      }
     },
     "84ec50998d1a4da694e4b3a79cc8b436": {
      "model_module": "@jupyter-widgets/controls",
      "model_module_version": "1.5.0",
      "model_name": "HTMLModel",
      "state": {
       "layout": "IPY_MODEL_46758690e5be44c1b558e172ef3fd98d",
       "style": "IPY_MODEL_0b9870d50b274d2789be037fedb4574e",
       "value": "<h5>Status</h5>"
      }
     },
     "896ab82264ea41ec8e485bd92765ba02": {
      "model_module": "@jupyter-widgets/controls",
      "model_module_version": "1.5.0",
      "model_name": "ButtonStyleModel",
      "state": {}
     },
     "8aa4bb2a33244b2e9f4557cd1dcdaf51": {
      "model_module": "@jupyter-widgets/base",
      "model_module_version": "1.2.0",
      "model_name": "LayoutModel",
      "state": {
       "margin": "0px 0px 0px 37px",
       "width": "600px"
      }
     },
     "8fbc70f84ec946b49a7ec642116c65b7": {
      "model_module": "@jupyter-widgets/controls",
      "model_module_version": "1.5.0",
      "model_name": "ButtonModel",
      "state": {
       "button_style": "primary",
       "description": "Clear",
       "layout": "IPY_MODEL_2ad57e2fda524570bf39257258380f50",
       "style": "IPY_MODEL_896ab82264ea41ec8e485bd92765ba02"
      }
     },
     "a3beeacea1b74f2e8d5962ba330838f8": {
      "model_module": "@jupyter-widgets/controls",
      "model_module_version": "1.5.0",
      "model_name": "HTMLModel",
      "state": {
       "layout": "IPY_MODEL_bbfb883ec5ab487394e33b4fe0ee8adf",
       "style": "IPY_MODEL_e6193fa2a17a423597293eb2eeaa8cc7",
       "value": "<h5>Backend</h5>"
      }
     },
     "a61a18d29c69419bbc36219e7cf95b67": {
      "model_module": "@jupyter-widgets/controls",
      "model_module_version": "1.5.0",
      "model_name": "DescriptionStyleModel",
      "state": {
       "description_width": ""
      }
     },
     "bbfb883ec5ab487394e33b4fe0ee8adf": {
      "model_module": "@jupyter-widgets/base",
      "model_module_version": "1.2.0",
      "model_name": "LayoutModel",
      "state": {
       "width": "145px"
      }
     },
     "ce3c9da76b8148378446aba0e82bd2e5": {
      "model_module": "@jupyter-widgets/base",
      "model_module_version": "1.2.0",
      "model_name": "LayoutModel",
      "state": {}
     },
     "d5f3162c6ed74786b8557b4027fa6081": {
      "model_module": "@jupyter-widgets/controls",
      "model_module_version": "1.5.0",
      "model_name": "HBoxModel",
      "state": {
       "children": [
        "IPY_MODEL_0f4070283573448494c0e77c19ba19c8",
        "IPY_MODEL_a3beeacea1b74f2e8d5962ba330838f8",
        "IPY_MODEL_84ec50998d1a4da694e4b3a79cc8b436",
        "IPY_MODEL_e64cd40e0fb74b1db47d079a3035eb87",
        "IPY_MODEL_2afd9ee7df8949cbb7d620d6bb9ba4f5"
       ],
       "layout": "IPY_MODEL_8aa4bb2a33244b2e9f4557cd1dcdaf51"
      }
     },
     "d6e185ae50694d2c9052c50a66bcd8d7": {
      "model_module": "@jupyter-widgets/controls",
      "model_module_version": "1.5.0",
      "model_name": "HTMLModel",
      "state": {
       "layout": "IPY_MODEL_553fd51506c5437293d2ab59ad40fa10",
       "style": "IPY_MODEL_a61a18d29c69419bbc36219e7cf95b67",
       "value": "<p style='font-family: IBM Plex Sans, Arial, Helvetica, sans-serif; font-size: 20px; font-weight: medium;'>Circuit Properties</p>"
      }
     },
     "e6193fa2a17a423597293eb2eeaa8cc7": {
      "model_module": "@jupyter-widgets/controls",
      "model_module_version": "1.5.0",
      "model_name": "DescriptionStyleModel",
      "state": {
       "description_width": ""
      }
     },
     "e64cd40e0fb74b1db47d079a3035eb87": {
      "model_module": "@jupyter-widgets/controls",
      "model_module_version": "1.5.0",
      "model_name": "HTMLModel",
      "state": {
       "layout": "IPY_MODEL_2c4947d97ecc47caa94329fc4190edf2",
       "style": "IPY_MODEL_2f34ec51022b4b9cb1872e7a690ab69b",
       "value": "<h5>Queue</h5>"
      }
     },
     "f2d43319c5794c799951d402074159ce": {
      "model_module": "@jupyter-widgets/base",
      "model_module_version": "1.2.0",
      "model_name": "LayoutModel",
      "state": {
       "grid_template_areas": "\n                                       \". . . . right \"\n                                        ",
       "grid_template_columns": "20% 20% 20% 20% 20%",
       "width": "100%"
      }
     },
     "f7637ec443774974b380d31c6ea339a6": {
      "model_module": "@jupyter-widgets/controls",
      "model_module_version": "1.5.0",
      "model_name": "GridBoxModel",
      "state": {
       "children": [
        "IPY_MODEL_8fbc70f84ec946b49a7ec642116c65b7"
       ],
       "layout": "IPY_MODEL_f2d43319c5794c799951d402074159ce"
      }
     }
    },
    "version_major": 2,
    "version_minor": 0
   }
  }
 },
 "nbformat": 4,
 "nbformat_minor": 5
}
