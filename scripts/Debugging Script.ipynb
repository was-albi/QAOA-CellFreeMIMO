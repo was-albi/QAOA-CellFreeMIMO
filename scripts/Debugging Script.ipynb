{
 "cells": [
  {
   "cell_type": "code",
   "execution_count": 3,
   "id": "0474c008",
   "metadata": {},
   "outputs": [
    {
     "ename": "ModuleNotFoundError",
     "evalue": "No module named 'cvxpy'",
     "output_type": "error",
     "traceback": [
      "\u001b[0;31m---------------------------------------------------------------------------\u001b[0m",
      "\u001b[0;31mModuleNotFoundError\u001b[0m                       Traceback (most recent call last)",
      "\u001b[0;32m<ipython-input-3-b3a42baabc64>\u001b[0m in \u001b[0;36m<module>\u001b[0;34m\u001b[0m\n\u001b[1;32m      1\u001b[0m \u001b[0;32mimport\u001b[0m \u001b[0mnumpy\u001b[0m \u001b[0;32mas\u001b[0m \u001b[0mnp\u001b[0m\u001b[0;34m\u001b[0m\u001b[0;34m\u001b[0m\u001b[0m\n\u001b[1;32m      2\u001b[0m \u001b[0;32mimport\u001b[0m \u001b[0mscipy\u001b[0m\u001b[0;34m.\u001b[0m\u001b[0mspecial\u001b[0m\u001b[0;34m\u001b[0m\u001b[0;34m\u001b[0m\u001b[0m\n\u001b[0;32m----> 3\u001b[0;31m \u001b[0;32mimport\u001b[0m \u001b[0mcvxpy\u001b[0m \u001b[0;32mas\u001b[0m \u001b[0mcp\u001b[0m\u001b[0;34m\u001b[0m\u001b[0;34m\u001b[0m\u001b[0m\n\u001b[0m\u001b[1;32m      4\u001b[0m \u001b[0;34m\u001b[0m\u001b[0m\n\u001b[1;32m      5\u001b[0m \u001b[0;32mfrom\u001b[0m \u001b[0mscipy\u001b[0m\u001b[0;34m.\u001b[0m\u001b[0moptimize\u001b[0m \u001b[0;32mimport\u001b[0m \u001b[0mminimize\u001b[0m\u001b[0;34m\u001b[0m\u001b[0;34m\u001b[0m\u001b[0m\n",
      "\u001b[0;31mModuleNotFoundError\u001b[0m: No module named 'cvxpy'"
     ]
    }
   ],
   "source": [
    "import numpy as np\n",
    "import scipy.special\n",
    "import cvxpy as cp\n",
    "\n",
    "from scipy.optimize import minimize\n",
    "\n",
    "# Importing standard Qiskit libraries\n",
    "from qiskit import QuantumCircuit, ClassicalRegister, QuantumRegister, transpile, Aer, IBMQ, execute\n",
    "from qiskit.circuit import Parameter\n",
    "from qiskit.tools.jupyter import *\n",
    "from qiskit.visualization import *\n",
    "#from ibm_quantum_widgets import *\n",
    "from qiskit.providers.aer import QasmSimulator\n",
    "\n",
    "from src import QAOA_utilities as QAOAut\n",
    "from src import CellFreeQAOA as CFQAOA\n",
    "\n",
    "# Loading your IBM Quantum account(s)\n",
    "#provider = IBMQ.load_account()"
   ]
  },
  {
   "cell_type": "code",
   "execution_count": 2,
   "id": "b353b2d6",
   "metadata": {},
   "outputs": [],
   "source": [
    "M = 3 # number of cells\n",
    "K = 3 # number of users\n",
    "rho = 1 # max power\n",
    "BW_max = 6 # max BW, M_hat in paper\n",
    "rng = np.random.default_rng(2703)\n",
    "#eta = np.random.rand(K) # power control fraction for each user\n",
    "#alpha = np.random.rand(M,K)\n",
    "#beta = np.random.rand(M,K)\n",
    "eta = rng.random(K) # power control fraction for each user TO BE OTPIMIZED\n",
    "alpha = rng.random((M,K))\n",
    "beta = rng.random((M,K))\n",
    "t = 1"
   ]
  },
  {
   "cell_type": "code",
   "execution_count": 3,
   "id": "af27540c",
   "metadata": {},
   "outputs": [
    {
     "name": "stdout",
     "output_type": "stream",
     "text": [
      "Starting iteration n°  0  - current intra-iteration difference:  1.9999999989472883e-07\n",
      "Actual full search best\n",
      "\n",
      "ID:  234\n",
      "MIN SINR:  0.39211926894246324\n",
      "Best X:  [[0. 1. 1.]\n",
      " [1. 0. 1.]\n",
      " [1. 0. 1.]]\n",
      "----- Starting Bisection Method -----\n",
      "D E B U G   --->    1 [[0. 1. 1.]\n",
      " [1. 0. 1.]\n",
      " [1. 0. 1.]] [[0.45313096 0.94245015 0.44214828]\n",
      " [0.55604655 0.00476601 0.25644698]\n",
      " [0.91350184 0.60888821 0.18735454]] [[0.8967107  0.70395423 0.63848526]\n",
      " [0.04027483 0.77438865 0.85281433]\n",
      " [0.80659107 0.17065088 0.55676482]] 0.43454407194436373\n",
      "Optimal t =  0.43454407194436373\n",
      "Optimal eta =  [0.60711284 0.99999995 0.97797167]\n",
      "Starting iteration n°  1  - current intra-iteration difference:  0.5654559280556363\n",
      "Actual full search best\n",
      "\n",
      "ID:  234\n",
      "MIN SINR:  0.43454408229195046\n",
      "Best X:  [[0. 1. 1.]\n",
      " [1. 0. 1.]\n",
      " [1. 0. 1.]]\n",
      "----- Starting Bisection Method -----\n",
      "D E B U G   --->    1 [[0. 1. 1.]\n",
      " [1. 0. 1.]\n",
      " [1. 0. 1.]] [[0.45313096 0.94245015 0.44214828]\n",
      " [0.55604655 0.00476601 0.25644698]\n",
      " [0.91350184 0.60888821 0.18735454]] [[0.8967107  0.70395423 0.63848526]\n",
      " [0.04027483 0.77438865 0.85281433]\n",
      " [0.80659107 0.17065088 0.55676482]] 0.43454409394733096\n",
      "Optimal t =  0.43454409394733096\n",
      "Optimal eta =  [0.60711286 0.99999999 0.97797166]\n",
      "Current intra-iteration difference:  2.2002967225986936e-08\n"
     ]
    }
   ],
   "source": [
    "t = 1\n",
    "eta = rng.random(K) \n",
    "\n",
    "tol_global = 10**(-7)\n",
    "maxiter = 10\n",
    "ti = t\n",
    "tf = t + 2*tol_global\n",
    "glit = 0\n",
    "\n",
    "while( abs(tf - ti) > tol_global and glit < maxiter ):\n",
    "    print('Starting iteration n° ',glit,' - current intra-iteration difference: ', abs(tf - ti))\n",
    "    glit += 1\n",
    "    ti = t\n",
    "    X_mat , t = CFQAOA.bruteforce_SINR(M, K, BW_max, eta, alpha, beta, rho)\n",
    "    eta, t = CFQAOA.optimize_powers(rho, X_mat, alpha, beta, t)\n",
    "    tf = t\n",
    "    \n",
    "print('Current intra-iteration difference: ', abs(tf - ti))\n",
    "X_opt = X_mat\n",
    "t_opt = t\n",
    "eta_opt = eta"
   ]
  },
  {
   "cell_type": "code",
   "execution_count": 4,
   "id": "6e4cbd59",
   "metadata": {},
   "outputs": [
    {
     "name": "stdout",
     "output_type": "stream",
     "text": [
      "Starting iteration n°  0  - current intra-iteration difference:  1.9999999989472883e-07\n"
     ]
    },
    {
     "ename": "TypeError",
     "evalue": "optimize_links() missing 2 required positional arguments: 'lambda_0' and 'tg'",
     "output_type": "error",
     "traceback": [
      "\u001b[0;31m---------------------------------------------------------------------------\u001b[0m",
      "\u001b[0;31mTypeError\u001b[0m                                 Traceback (most recent call last)",
      "\u001b[0;32m/tmp/ipykernel_5081/725803458.py\u001b[0m in \u001b[0;36m<module>\u001b[0;34m\u001b[0m\n\u001b[1;32m     12\u001b[0m     \u001b[0mglit\u001b[0m \u001b[0;34m+=\u001b[0m \u001b[0;36m1\u001b[0m\u001b[0;34m\u001b[0m\u001b[0;34m\u001b[0m\u001b[0m\n\u001b[1;32m     13\u001b[0m     \u001b[0mti\u001b[0m \u001b[0;34m=\u001b[0m \u001b[0mt\u001b[0m\u001b[0;34m\u001b[0m\u001b[0;34m\u001b[0m\u001b[0m\n\u001b[0;32m---> 14\u001b[0;31m     \u001b[0mX_mat\u001b[0m\u001b[0;34m,\u001b[0m \u001b[0mt\u001b[0m\u001b[0;34m,\u001b[0m \u001b[0mQAOA_xt\u001b[0m \u001b[0;34m=\u001b[0m \u001b[0mCFQAOA\u001b[0m\u001b[0;34m.\u001b[0m\u001b[0moptimize_links\u001b[0m\u001b[0;34m(\u001b[0m\u001b[0mBW_max\u001b[0m\u001b[0;34m,\u001b[0m \u001b[0mrho\u001b[0m\u001b[0;34m,\u001b[0m \u001b[0meta\u001b[0m\u001b[0;34m,\u001b[0m \u001b[0malpha\u001b[0m\u001b[0;34m,\u001b[0m \u001b[0mbeta\u001b[0m\u001b[0;34m,\u001b[0m \u001b[0mt\u001b[0m\u001b[0;34m)\u001b[0m\u001b[0;34m\u001b[0m\u001b[0;34m\u001b[0m\u001b[0m\n\u001b[0m\u001b[1;32m     15\u001b[0m     \u001b[0mQAOA_X\u001b[0m\u001b[0;34m,\u001b[0m \u001b[0mQAOA_t\u001b[0m \u001b[0;34m=\u001b[0m \u001b[0mX_mat\u001b[0m\u001b[0;34m,\u001b[0m \u001b[0mt\u001b[0m\u001b[0;34m\u001b[0m\u001b[0;34m\u001b[0m\u001b[0m\n\u001b[1;32m     16\u001b[0m     \u001b[0meta\u001b[0m\u001b[0;34m,\u001b[0m \u001b[0mt\u001b[0m \u001b[0;34m=\u001b[0m \u001b[0mCFQAOA\u001b[0m\u001b[0;34m.\u001b[0m\u001b[0moptimize_powers\u001b[0m\u001b[0;34m(\u001b[0m\u001b[0mrho\u001b[0m\u001b[0;34m,\u001b[0m \u001b[0mX_mat\u001b[0m\u001b[0;34m,\u001b[0m \u001b[0malpha\u001b[0m\u001b[0;34m,\u001b[0m \u001b[0mbeta\u001b[0m\u001b[0;34m,\u001b[0m \u001b[0mt\u001b[0m\u001b[0;34m)\u001b[0m\u001b[0;34m\u001b[0m\u001b[0;34m\u001b[0m\u001b[0m\n",
      "\u001b[0;31mTypeError\u001b[0m: optimize_links() missing 2 required positional arguments: 'lambda_0' and 'tg'"
     ]
    }
   ],
   "source": [
    "t = 1\n",
    "eta = rng.random(K) \n",
    "\n",
    "tol_global = 10**(-7)\n",
    "maxiter = 10\n",
    "ti = t\n",
    "tf = t + 2*tol_global\n",
    "glit = 0\n",
    "\n",
    "while( abs(tf - ti) > tol_global and glit < maxiter ):\n",
    "    print('Starting iteration n° ',glit,' - current intra-iteration difference: ', abs(tf - ti))\n",
    "    glit += 1\n",
    "    ti = t\n",
    "    X_mat, t, QAOA_xt = CFQAOA.optimize_links(BW_max, rho, eta, alpha, beta, t)\n",
    "    QAOA_X, QAOA_t = X_mat, t\n",
    "    eta, t = CFQAOA.optimize_powers(rho, X_mat, alpha, beta, t)\n",
    "    tf = t\n",
    "    \n",
    "print('Current intra-iteration difference: ', abs(tf - ti))"
   ]
  },
  {
   "cell_type": "code",
   "execution_count": null,
   "id": "bfd129ae",
   "metadata": {},
   "outputs": [],
   "source": [
    "def check_SINR(X, t, alpha, beta, rho, eta):\n",
    "    snr = CFQAOA.SINR(X, eta, alpha, beta, rho )\n",
    "    print(snr)\n",
    "    return(snr > t)"
   ]
  },
  {
   "cell_type": "code",
   "execution_count": null,
   "id": "23897172",
   "metadata": {},
   "outputs": [],
   "source": [
    "check_SINR(X_mat, t, alpha, beta, rho, eta)"
   ]
  },
  {
   "cell_type": "code",
   "execution_count": null,
   "id": "7515854d",
   "metadata": {},
   "outputs": [],
   "source": [
    "check_SINR(X_opt, t_opt, alpha, beta, rho, eta_opt)"
   ]
  }
 ],
 "metadata": {
  "kernelspec": {
   "display_name": "Python 3",
   "language": "python",
   "name": "python3"
  },
  "language_info": {
   "codemirror_mode": {
    "name": "ipython",
    "version": 3
   },
   "file_extension": ".py",
   "mimetype": "text/x-python",
   "name": "python",
   "nbconvert_exporter": "python",
   "pygments_lexer": "ipython3",
   "version": "3.7.4"
  }
 },
 "nbformat": 4,
 "nbformat_minor": 5
}
